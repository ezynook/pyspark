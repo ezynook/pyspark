{
 "cells": [
  {
   "cell_type": "code",
   "execution_count": 1,
   "id": "d7038f3d-1e74-43b1-84ba-477c7bc649de",
   "metadata": {},
   "outputs": [],
   "source": [
    "import pandas as pd"
   ]
  },
  {
   "cell_type": "code",
   "execution_count": 2,
   "id": "02f7f0be-bb93-4446-98a9-a52b2bec47c1",
   "metadata": {},
   "outputs": [],
   "source": [
    "df = pd.read_json('http://lawsystem.duckdns.org/api_json.php')"
   ]
  },
  {
   "cell_type": "markdown",
   "id": "a5e98799-4e65-480f-a2d5-af52a151f128",
   "metadata": {},
   "source": [
    "## ไม่ใช้ Case Sensitive หากให้สนใจตัวใหญ่ ให้ใส่ case=True"
   ]
  },
  {
   "cell_type": "code",
   "execution_count": null,
   "id": "a0816433-4a7c-4948-8e63-5e20802e1a39",
   "metadata": {},
   "outputs": [],
   "source": [
    "df[df['Subject'].str.contains(r'ทำร้าย', case=False)]"
   ]
  },
  {
   "cell_type": "markdown",
   "id": "4dff7fd6-cd6b-4b12-8cff-cd8a30d8e674",
   "metadata": {},
   "source": [
    "## ข้างนอกอะไรก็ได้แต่ใน [] ให้เอาค่าที่เราใส่"
   ]
  },
  {
   "cell_type": "code",
   "execution_count": null,
   "id": "255c9e11-2cd2-4aac-91df-a2b6ac08304a",
   "metadata": {},
   "outputs": [],
   "source": [
    "df[df['Title'].str.contains(r'wom[ae]n$', case=False)]"
   ]
  },
  {
   "cell_type": "markdown",
   "id": "3c09c113-b62b-4a24-8eab-3faee6f960b8",
   "metadata": {},
   "source": [
    "## ค้นหาแบบ OR"
   ]
  },
  {
   "cell_type": "code",
   "execution_count": null,
   "id": "902e3a61-ec0b-449f-90eb-d2babd5c3959",
   "metadata": {},
   "outputs": [],
   "source": [
    "df[df['Title'].str.contains(r'bat|spider|ant|iron', case=False)]"
   ]
  },
  {
   "cell_type": "markdown",
   "id": "0052eb8e-7bff-4da1-b0d7-2e97bdc42769",
   "metadata": {},
   "source": [
    "## ค้นหาตัวเลขดังตัวอย่างคือเลขที่ตรงกับ 0-9"
   ]
  },
  {
   "cell_type": "code",
   "execution_count": null,
   "id": "457e9d4b-c96c-44ad-b7c1-44f7a76fa336",
   "metadata": {},
   "outputs": [],
   "source": [
    "df[df['Title'].str.contains(r'[0-9]', case=False)]"
   ]
  },
  {
   "attachments": {},
   "cell_type": "markdown",
   "id": "966c003e",
   "metadata": {},
   "source": [
    "## ค้นหาข้อมูลโดยใช้ Loc"
   ]
  },
  {
   "cell_type": "code",
   "execution_count": null,
   "id": "55e194b1",
   "metadata": {},
   "outputs": [],
   "source": [
    "df = df.query('province == \"ปัตตานี\"')\n",
    "df = df.loc[df['column_name'] == \"ปัตตานี\"]\n",
    "df = df.loc[df['column_name'].isin(\"some_values\")]\n",
    "df = df.loc[(df['column_name'] >= 'A') & (df['column_name'] <= 'B')]"
   ]
  }
 ],
 "metadata": {
  "kernelspec": {
   "display_name": "Python 3 (ipykernel)",
   "language": "python",
   "name": "python3"
  },
  "language_info": {
   "codemirror_mode": {
    "name": "ipython",
    "version": 3
   },
   "file_extension": ".py",
   "mimetype": "text/x-python",
   "name": "python",
   "nbconvert_exporter": "python",
   "pygments_lexer": "ipython3",
   "version": "3.10.8"
  }
 },
 "nbformat": 4,
 "nbformat_minor": 5
}
