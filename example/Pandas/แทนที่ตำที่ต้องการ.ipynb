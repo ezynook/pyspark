{
 "cells": [
  {
   "cell_type": "code",
   "execution_count": 1,
   "id": "eb733714-9923-4ddc-a357-7afc7a6c70bf",
   "metadata": {},
   "outputs": [],
   "source": [
    "import pandas as pd"
   ]
  },
  {
   "cell_type": "code",
   "execution_count": 2,
   "id": "5fe063eb-a3c7-4c4d-ba35-cd76cb0342ae",
   "metadata": {},
   "outputs": [],
   "source": [
    "df = pd.read_json('http://lawsystem.duckdns.org/api_json.php')"
   ]
  },
  {
   "cell_type": "markdown",
   "id": "c65943c8-e870-4fe3-8c3d-380546a84e25",
   "metadata": {},
   "source": [
    "## แทนที่ค่าที่ต้องการ"
   ]
  },
  {
   "cell_type": "code",
   "execution_count": null,
   "id": "7beaad6d-a9c5-4976-b962-aba09d11fe02",
   "metadata": {},
   "outputs": [],
   "source": [
    "data[\"Age\"]= data[\"Age\"].replace(25.0, \"Twenty five\")"
   ]
  }
 ],
 "metadata": {
  "kernelspec": {
   "display_name": "Python 3 (ipykernel)",
   "language": "python",
   "name": "python3"
  },
  "language_info": {
   "codemirror_mode": {
    "name": "ipython",
    "version": 3
   },
   "file_extension": ".py",
   "mimetype": "text/x-python",
   "name": "python",
   "nbconvert_exporter": "python",
   "pygments_lexer": "ipython3",
   "version": "3.10.8"
  }
 },
 "nbformat": 4,
 "nbformat_minor": 5
}
