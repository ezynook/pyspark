{
 "cells": [
  {
   "cell_type": "code",
   "execution_count": null,
   "id": "8a381c30-e9c2-4750-a6dc-ab3d76d4ae6b",
   "metadata": {},
   "outputs": [],
   "source": [
    "import pandas as pd"
   ]
  },
  {
   "cell_type": "code",
   "execution_count": null,
   "id": "5bb4d4b1-d3be-475f-bb13-15be0d6fefc8",
   "metadata": {},
   "outputs": [],
   "source": [
    "df = pd.read_csv('./file.csv', sep=\";\")\n",
    "df"
   ]
  },
  {
   "cell_type": "markdown",
   "id": "5256c3b9-507b-4238-8f67-5aedaeec824a",
   "metadata": {},
   "source": [
    "## แยก Columns ที่ถูกขั้นด้วย Commas"
   ]
  },
  {
   "cell_type": "code",
   "execution_count": null,
   "id": "21b38042-2d4e-4483-826b-b6956a4003ab",
   "metadata": {},
   "outputs": [],
   "source": [
    "explode_value['hostname'] = df['hostname']\n",
    "explode_value['ip'] = df['ip']\n",
    "explode_value['port'] = df['port'].str.split(',')\n",
    "df_result = explode_value.explode('port', ignore_index=True)"
   ]
  }
 ],
 "metadata": {
  "kernelspec": {
   "display_name": "Python 3 (ipykernel)",
   "language": "python",
   "name": "python3"
  },
  "language_info": {
   "codemirror_mode": {
    "name": "ipython",
    "version": 3
   },
   "file_extension": ".py",
   "mimetype": "text/x-python",
   "name": "python",
   "nbconvert_exporter": "python",
   "pygments_lexer": "ipython3",
   "version": "3.10.8"
  }
 },
 "nbformat": 4,
 "nbformat_minor": 5
}
