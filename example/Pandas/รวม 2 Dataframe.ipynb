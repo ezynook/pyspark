{
 "cells": [
  {
   "cell_type": "code",
   "execution_count": 1,
   "id": "da7c518b-419b-4c31-b5e6-16aeb411eba7",
   "metadata": {},
   "outputs": [],
   "source": [
    "import pandas as pd"
   ]
  },
  {
   "cell_type": "code",
   "execution_count": 2,
   "id": "2e747dbd-bc5c-4fd7-8a47-6d4fb26fdc57",
   "metadata": {},
   "outputs": [],
   "source": [
    "df1 = pd.read_json('http://lawsystem.duckdns.org/api_json.php')\n",
    "df2 = pd.read_json('http://lawsystem.duckdns.org/api_json.php')"
   ]
  },
  {
   "cell_type": "markdown",
   "id": "c8c5cadb-975f-49b6-9ee8-1f3e848f3f7a",
   "metadata": {},
   "source": [
    "## รวม 2 Dataframe"
   ]
  },
  {
   "cell_type": "code",
   "execution_count": 20,
   "id": "cb0aa3ea-59d7-4747-adee-ddb08bcc5905",
   "metadata": {},
   "outputs": [],
   "source": [
    "frames = [df1, df2]\n",
    "result = pd.concat(frames)"
   ]
  },
  {
   "cell_type": "markdown",
   "id": "5220bd63-4429-486e-9faa-987b39a6ae3c",
   "metadata": {},
   "source": [
    "## อีกทางเลือกนึง"
   ]
  },
  {
   "cell_type": "code",
   "execution_count": null,
   "id": "538a264d-a248-45ce-a958-ea6e398b4ad7",
   "metadata": {},
   "outputs": [],
   "source": [
    "df1.append(df2)"
   ]
  }
 ],
 "metadata": {
  "kernelspec": {
   "display_name": "Python 3 (ipykernel)",
   "language": "python",
   "name": "python3"
  },
  "language_info": {
   "codemirror_mode": {
    "name": "ipython",
    "version": 3
   },
   "file_extension": ".py",
   "mimetype": "text/x-python",
   "name": "python",
   "nbconvert_exporter": "python",
   "pygments_lexer": "ipython3",
   "version": "3.10.8"
  }
 },
 "nbformat": 4,
 "nbformat_minor": 5
}
