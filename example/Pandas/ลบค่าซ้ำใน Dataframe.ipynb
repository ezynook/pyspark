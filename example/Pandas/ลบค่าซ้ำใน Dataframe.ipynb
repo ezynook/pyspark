{
 "cells": [
  {
   "cell_type": "code",
   "execution_count": 1,
   "id": "0eed0ec3",
   "metadata": {},
   "outputs": [],
   "source": [
    "import pandas as pd"
   ]
  },
  {
   "cell_type": "code",
   "execution_count": 5,
   "id": "78279257",
   "metadata": {},
   "outputs": [
    {
     "name": "stdout",
     "output_type": "stream",
     "text": [
      "  manufacturer                model  displ  year  cyl       trans drv  cty  \\\n",
      "0       toyota          4runner 4wd    2.7  1999    4    auto(l4)   4   16   \n",
      "1         audi           a4 quattro    1.8  1999    4  manual(m5)   4   18   \n",
      "2         audi           a4 quattro    1.8  2008    4  manual(m5)   4   18   \n",
      "3       nissan               altima    2.4  1999    4    auto(l4)   f   19   \n",
      "5       nissan               altima    2.5  2008    4  manual(m6)   f   23   \n",
      "6         jeep   grand cherokee 4wd    4.7  2008    8    auto(l5)   4   14   \n",
      "7      lincoln        navigator 2wd    5.4  1999    8    auto(l4)   r   11   \n",
      "8        dodge  ram 1500 pickup 4wd    5.2  1999    8    auto(l4)   4   11   \n",
      "9      hyundai               sonata    2.4  2008    4  manual(m5)   f   21   \n",
      "\n",
      "   hwy fl    class  \n",
      "0   20  r      suv  \n",
      "1   26  p  compact  \n",
      "2   26  p  compact  \n",
      "3   27  r  compact  \n",
      "5   32  r  midsize  \n",
      "6   19  r      suv  \n",
      "7   17  r      suv  \n",
      "8   15  r   pickup  \n",
      "9   31  r  midsize  \n"
     ]
    }
   ],
   "source": [
    "df=pd.read_csv('https://github.com/prasertcbs/tutorial/raw/master/duplicates.csv')\n",
    "# df.drop_duplicates(subset='model')\n",
    "dup = df.drop_duplicates()\n",
    "print(dup)"
   ]
  },
  {
   "cell_type": "code",
   "execution_count": null,
   "id": "cc9b8ad0",
   "metadata": {},
   "outputs": [],
   "source": []
  }
 ],
 "metadata": {
  "kernelspec": {
   "display_name": "Python 3 (ipykernel)",
   "language": "python",
   "name": "python3"
  },
  "language_info": {
   "codemirror_mode": {
    "name": "ipython",
    "version": 3
   },
   "file_extension": ".py",
   "mimetype": "text/x-python",
   "name": "python",
   "nbconvert_exporter": "python",
   "pygments_lexer": "ipython3",
   "version": "3.9.12"
  }
 },
 "nbformat": 4,
 "nbformat_minor": 5
}
