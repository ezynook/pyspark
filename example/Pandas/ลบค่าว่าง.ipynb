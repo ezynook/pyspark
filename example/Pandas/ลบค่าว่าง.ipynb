{
 "cells": [
  {
   "cell_type": "code",
   "execution_count": 2,
   "id": "a82c9499-7c97-4d53-b776-33db207c48de",
   "metadata": {},
   "outputs": [],
   "source": [
    "import pandas as pd"
   ]
  },
  {
   "cell_type": "code",
   "execution_count": 3,
   "id": "d33b5ffa-a354-445b-bba6-49690ec618ca",
   "metadata": {},
   "outputs": [],
   "source": [
    "df = pd.read_json('http://lawsystem.duckdns.org/api_json.php')"
   ]
  },
  {
   "cell_type": "code",
   "execution_count": 6,
   "id": "c1138d4e-e550-4196-8f72-eb8d90ff9f19",
   "metadata": {},
   "outputs": [],
   "source": [
    "df=df.dropna(subset=['Subject']).reset_index(drop=True) # blank rows"
   ]
  },
  {
   "cell_type": "code",
   "execution_count": null,
   "id": "5f2bd3b9-9115-4197-992f-6a38922c0108",
   "metadata": {},
   "outputs": [],
   "source": [
    "df"
   ]
  }
 ],
 "metadata": {
  "kernelspec": {
   "display_name": "Python 3 (ipykernel)",
   "language": "python",
   "name": "python3"
  },
  "language_info": {
   "codemirror_mode": {
    "name": "ipython",
    "version": 3
   },
   "file_extension": ".py",
   "mimetype": "text/x-python",
   "name": "python",
   "nbconvert_exporter": "python",
   "pygments_lexer": "ipython3",
   "version": "3.10.8"
  }
 },
 "nbformat": 4,
 "nbformat_minor": 5
}
