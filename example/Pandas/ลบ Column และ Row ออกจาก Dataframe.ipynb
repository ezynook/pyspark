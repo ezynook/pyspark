{
 "cells": [
  {
   "cell_type": "code",
   "execution_count": 12,
   "id": "c83b4938-273d-4a98-8f51-ae3017453a8c",
   "metadata": {},
   "outputs": [],
   "source": [
    "import pandas as pd"
   ]
  },
  {
   "cell_type": "code",
   "execution_count": 13,
   "id": "854a533c-8259-4f18-a980-3383c67365f7",
   "metadata": {},
   "outputs": [],
   "source": [
    "df = pd.read_json('http://lawsystem.duckdns.org/api_json.php')"
   ]
  },
  {
   "cell_type": "markdown",
   "id": "9de85709-a72f-4dc3-afbf-4f7ee7003013",
   "metadata": {},
   "source": [
    "## ลบ Column And Row ออกจาก Dataframe"
   ]
  },
  {
   "cell_type": "code",
   "execution_count": 14,
   "id": "ec0ab115-9c79-4aff-93eb-f20bcc9e1413",
   "metadata": {},
   "outputs": [],
   "source": [
    "df.drop([\"Subject\", \"Detail\"], axis = 1, inplace = True)"
   ]
  }
 ],
 "metadata": {
  "kernelspec": {
   "display_name": "Python 3 (ipykernel)",
   "language": "python",
   "name": "python3"
  },
  "language_info": {
   "codemirror_mode": {
    "name": "ipython",
    "version": 3
   },
   "file_extension": ".py",
   "mimetype": "text/x-python",
   "name": "python",
   "nbconvert_exporter": "python",
   "pygments_lexer": "ipython3",
   "version": "3.10.8"
  }
 },
 "nbformat": 4,
 "nbformat_minor": 5
}
