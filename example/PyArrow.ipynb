{
 "cells": [
  {
   "cell_type": "code",
   "execution_count": 1,
   "id": "eff613fc",
   "metadata": {},
   "outputs": [],
   "source": [
    "import pandas as pd\n",
    "import numpy as np"
   ]
  },
  {
   "cell_type": "code",
   "execution_count": 2,
   "id": "f57b63e1",
   "metadata": {},
   "outputs": [],
   "source": [
    "df = pd.read_csv(\"https://vincentarelbundock.github.io/Rdatasets/csv/AER/Fertility.csv\")"
   ]
  },
  {
   "cell_type": "code",
   "execution_count": 3,
   "id": "88c0243b",
   "metadata": {},
   "outputs": [],
   "source": [
    "pd.options.mode.dtype_backend = 'pyarrow'\n",
    "\n",
    "df_arrow = pd.read_csv(\"https://vincentarelbundock.github.io/Rdatasets/csv/AER/Fertility.csv\", \n",
    "                       engine='pyarrow',\n",
    "                       use_nullable_dtypes=True)"
   ]
  },
  {
   "cell_type": "code",
   "execution_count": 4,
   "id": "c495c9ab",
   "metadata": {},
   "outputs": [
    {
     "name": "stdout",
     "output_type": "stream",
     "text": [
      "<class 'pandas.core.frame.DataFrame'>\n",
      "RangeIndex: 254654 entries, 0 to 254653\n",
      "Data columns (total 9 columns):\n",
      " #   Column    Non-Null Count   Dtype          \n",
      "---  ------    --------------   -----          \n",
      " 0             254654 non-null  int64[pyarrow] \n",
      " 1   morekids  254654 non-null  string[pyarrow]\n",
      " 2   gender1   254654 non-null  string[pyarrow]\n",
      " 3   gender2   254654 non-null  string[pyarrow]\n",
      " 4   age       254654 non-null  int64[pyarrow] \n",
      " 5   afam      254654 non-null  string[pyarrow]\n",
      " 6   hispanic  254654 non-null  string[pyarrow]\n",
      " 7   other     254654 non-null  string[pyarrow]\n",
      " 8   work      254654 non-null  int64[pyarrow] \n",
      "dtypes: int64[pyarrow](3), string[pyarrow](6)\n",
      "memory usage: 16.2 MB\n"
     ]
    }
   ],
   "source": [
    "df_arrow.info()"
   ]
  },
  {
   "cell_type": "code",
   "execution_count": 5,
   "id": "49627149",
   "metadata": {},
   "outputs": [
    {
     "name": "stdout",
     "output_type": "stream",
     "text": [
      "<class 'pandas.core.frame.DataFrame'>\n",
      "RangeIndex: 254654 entries, 0 to 254653\n",
      "Data columns (total 9 columns):\n",
      " #   Column      Non-Null Count   Dtype \n",
      "---  ------      --------------   ----- \n",
      " 0   Unnamed: 0  254654 non-null  int64 \n",
      " 1   morekids    254654 non-null  object\n",
      " 2   gender1     254654 non-null  object\n",
      " 3   gender2     254654 non-null  object\n",
      " 4   age         254654 non-null  int64 \n",
      " 5   afam        254654 non-null  object\n",
      " 6   hispanic    254654 non-null  object\n",
      " 7   other       254654 non-null  object\n",
      " 8   work        254654 non-null  int64 \n",
      "dtypes: int64(3), object(6)\n",
      "memory usage: 17.5+ MB\n"
     ]
    }
   ],
   "source": [
    "df.info()"
   ]
  },
  {
   "cell_type": "code",
   "execution_count": null,
   "id": "bb81c23e",
   "metadata": {},
   "outputs": [],
   "source": []
  }
 ],
 "metadata": {
  "kernelspec": {
   "display_name": "Python 3 (ipykernel)",
   "language": "python",
   "name": "python3"
  },
  "language_info": {
   "codemirror_mode": {
    "name": "ipython",
    "version": 3
   },
   "file_extension": ".py",
   "mimetype": "text/x-python",
   "name": "python",
   "nbconvert_exporter": "python",
   "pygments_lexer": "ipython3",
   "version": "3.9.16"
  }
 },
 "nbformat": 4,
 "nbformat_minor": 5
}
