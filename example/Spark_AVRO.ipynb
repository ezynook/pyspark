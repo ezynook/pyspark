{
 "cells": [
  {
   "cell_type": "code",
   "execution_count": null,
   "id": "3ac160cc-8b97-4bb8-ab4d-5fe398a8c7da",
   "metadata": {
    "tags": []
   },
   "outputs": [],
   "source": [
    "from pyspark.sql import *\n",
    "from pyspark.sql.types import *\n",
    "from pyspark.sql.functions import *\n",
    "import pyspark\n",
    "import pandas as pd\n",
    "import os"
   ]
  },
  {
   "cell_type": "code",
   "execution_count": null,
   "id": "fce6d13d-6323-4a33-9877-dfb3f2dd0524",
   "metadata": {
    "tags": []
   },
   "outputs": [],
   "source": [
    "os.environ['HADOOP_CONF_DIR'] = '/etc/hadoop/conf'\n",
    "os.environ['JAVA_HOME'] = '/usr/local/jdk8u222-b10'\n",
    "os.environ['HADOOP_USER_NAME']='hive'\n",
    "os.environ['PYSPARK_PYTHON'] ='/HDFS01/anaconda3/envs/main/bin/python'\n",
    "conf = pyspark.SparkConf().setAll([\n",
    "     ('spark.driver.maxResultSize', '0'),\n",
    "     ('spark.jars.packages','org.apache.spark:spark-avro_2.12:3.3.2'),\n",
    "     ('spark.driver.memory', '2g'),\n",
    "     ('spark.sql.repl.eagerEval.enabled','true'),\n",
    "     ('hive.strict.managed.tables','false'),\n",
    "     ('hive.metastore.uris', 'thrift://nn01.bigdata:9083'),\n",
    "     ('metastore.client.capability.check','false')\n",
    "    ])\n",
    "spark = SparkSession.builder \\\n",
    "        .master(\"local[*]\") \\\n",
    "        .appName(\"Test_AVRO\") \\\n",
    "        .config(conf=conf) \\\n",
    "        .enableHiveSupport() \\\n",
    "        .getOrCreate();"
   ]
  },
  {
   "cell_type": "code",
   "execution_count": null,
   "id": "f1af79c4-ef18-4edc-87e4-689a49be4ae3",
   "metadata": {
    "tags": []
   },
   "outputs": [],
   "source": [
    "df = spark.read.csv(\"file:///HDFS01/airflow/notebooks/Pasit/mortgages.csv\", header=True, inferSchema=True)\n",
    "df = df.drop(\"_c0\")\n",
    "df.printSchema()"
   ]
  },
  {
   "cell_type": "code",
   "execution_count": null,
   "id": "d2fb4ca5-c972-44ba-be4f-59aaf185cd7c",
   "metadata": {
    "tags": []
   },
   "outputs": [],
   "source": [
    "df.write \\\n",
    "    .format(\"avro\") \\\n",
    "    .mode(\"overwrite\") \\\n",
    "    .partitionBy(\"qob\") \\\n",
    "    .saveAsTable(\"pyspark.mortgages_avro\")"
   ]
  },
  {
   "cell_type": "code",
   "execution_count": null,
   "id": "7e850b08-a0a2-47eb-b2a9-e23b2cf0d967",
   "metadata": {},
   "outputs": [],
   "source": []
  }
 ],
 "metadata": {
  "kernelspec": {
   "display_name": "Python 3 (ipykernel)",
   "language": "python",
   "name": "python3"
  },
  "language_info": {
   "codemirror_mode": {
    "name": "ipython",
    "version": 3
   },
   "file_extension": ".py",
   "mimetype": "text/x-python",
   "name": "python",
   "nbconvert_exporter": "python",
   "pygments_lexer": "ipython3",
   "version": "3.9.16"
  }
 },
 "nbformat": 4,
 "nbformat_minor": 5
}
