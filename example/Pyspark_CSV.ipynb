{
 "cells": [
  {
   "cell_type": "code",
   "execution_count": null,
   "id": "efe1fa0c",
   "metadata": {},
   "outputs": [],
   "source": [
    "from pyspark.sql import SparkSession\n",
    "from pyspark.sql.types import *\n",
    "from pyspark.sql.functions import *\n",
    "import pyspark\n",
    "import pandas as pd\n",
    "import os\n",
    "import requests\n",
    "from datetime import datetime\n",
    "from urllib.request import urlopen"
   ]
  },
  {
   "cell_type": "code",
   "execution_count": null,
   "id": "b56d5fe3",
   "metadata": {},
   "outputs": [],
   "source": [
    "now = datetime.now()\n",
    "today = now.strftime(\"%Y%m%d\")\n",
    "times = now.strftime(\"%H%m%s\")"
   ]
  },
  {
   "cell_type": "code",
   "execution_count": null,
   "id": "048b2bd0",
   "metadata": {},
   "outputs": [],
   "source": [
    "os.environ['HADOOP_CONF_DIR'] = '/etc/hadoop/conf'\n",
    "os.environ['JAVA_HOME'] = '/usr/local/jdk8u222-b10'\n",
    "os.environ['HADOOP_USER_NAME']='hive'\n",
    "os.environ['PYSPARK_PYTHON'] ='/HDFS01/anaconda3/envs/main/bin/python'\n",
    "conf = pyspark.SparkConf().setAll([\n",
    "     ('spark.driver.maxResultSize', '0'),\n",
    "     ('spark.driver.memory', '2g'),\n",
    "     ('spark.sql.repl.eagerEval.enabled','true'),\n",
    "     ('hive.strict.managed.tables','false'),\n",
    "     ('hive.metastore.uris', 'thrift://nn01.bigdata:9083'),\n",
    "     ('metastore.client.capability.check','false')\n",
    "    ])\n",
    "spark = SparkSession.builder \\\n",
    "        .master(\"local[*]\") \\\n",
    "        .appName(\"testreplace\") \\\n",
    "        .config(conf=conf) \\\n",
    "        .enableHiveSupport() \\\n",
    "        .getOrCreate();"
   ]
  },
  {
   "cell_type": "code",
   "execution_count": null,
   "id": "52068dc3",
   "metadata": {},
   "outputs": [],
   "source": [
    "schema = StructType([\n",
    "    StructField(\"job_id\", StringType(), True),\n",
    "    StructField(\"addjob_by\", StringType(), True),\n",
    "    StructField(\"customer\", StringType(), True),\n",
    "    StructField(\"site\", StringType(), True),\n",
    "    StructField(\"malltype\", StringType(), True),\n",
    "    StructField(\"worktype\", StringType(), True),\n",
    "    StructField(\"details\", StringType(), True),\n",
    "    StructField(\"onsite\", StringType(), True),\n",
    "    StructField(\"time\", StringType(), True),\n",
    "    StructField(\"travel\", StringType(), True),\n",
    "    StructField(\"engineer\", StringType(), True),\n",
    "    StructField(\"status\", StringType(), True),\n",
    "    StructField(\"day\", StringType(), True),\n",
    "    StructField(\"date_start\", StringType(), True),\n",
    "    StructField(\"date_end\", StringType(), True),\n",
    "    StructField(\"status_work\", StringType(), True),\n",
    "    StructField(\"end_job_detail\", StringType(), True),\n",
    "    StructField(\"file_location\", StringType(), True),\n",
    "    StructField(\"update_by\", StringType(), True)\n",
    "])"
   ]
  },
  {
   "cell_type": "code",
   "execution_count": null,
   "id": "3f4f3628",
   "metadata": {},
   "outputs": [],
   "source": [
    "df = spark.createDataFrame(pd.read_json('http://engineer.da.co.th/api_json.php'), schema=schema)\n",
    "df = df.withColumn(\"details\", regexp_replace(\"details\", \"\\r\\n\", \"\"))"
   ]
  },
  {
   "cell_type": "code",
   "execution_count": null,
   "id": "908e8219",
   "metadata": {},
   "outputs": [],
   "source": [
    "df.write \\\n",
    ".mode('append') \\\n",
    ".option(\"sep\",\"|\") \\\n",
    ".csv(f\"/user/hive/warehouse/pyspark.db/engineer_csv/{today}/{times}\")"
   ]
  },
  {
   "cell_type": "code",
   "execution_count": null,
   "id": "62ebae0b",
   "metadata": {},
   "outputs": [],
   "source": [
    "os.system(\"sudo -u hdfs hdfs dfs -rmr /user/hive/warehouse/pyspark.db/engineer_csv\")"
   ]
  },
  {
   "cell_type": "code",
   "execution_count": null,
   "id": "7bf282c0",
   "metadata": {},
   "outputs": [],
   "source": [
    "os.system(\"sudo -u hdfs hdfs dfs -ls /user/hive/warehouse/pyspark.db/engineer_csv/20230216/10021676517926\")"
   ]
  },
  {
   "cell_type": "code",
   "execution_count": null,
   "id": "d93c784e",
   "metadata": {},
   "outputs": [],
   "source": []
  }
 ],
 "metadata": {
  "kernelspec": {
   "display_name": "Python 3 (ipykernel)",
   "language": "python",
   "name": "python3"
  },
  "language_info": {
   "codemirror_mode": {
    "name": "ipython",
    "version": 3
   },
   "file_extension": ".py",
   "mimetype": "text/x-python",
   "name": "python",
   "nbconvert_exporter": "python",
   "pygments_lexer": "ipython3",
   "version": "3.9.16"
  }
 },
 "nbformat": 4,
 "nbformat_minor": 5
}
