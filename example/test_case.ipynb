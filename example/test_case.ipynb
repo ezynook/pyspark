{
 "cells": [
  {
   "cell_type": "code",
   "execution_count": null,
   "id": "0f21a886",
   "metadata": {},
   "outputs": [],
   "source": [
    "from pyspark.sql import SparkSession\n",
    "from pyspark.sql.types import *\n",
    "import pyspark\n",
    "import pandas as pd\n",
    "import os\n",
    "from pyspark.sql.functions import *\n",
    "import requests\n",
    "from urllib.request import urlopen"
   ]
  },
  {
   "cell_type": "code",
   "execution_count": null,
   "id": "2d8e842e",
   "metadata": {},
   "outputs": [],
   "source": [
    "os.environ['HADOOP_CONF_DIR'] = '/etc/hadoop/conf'\n",
    "os.environ['JAVA_HOME'] = '/usr/local/jdk8u222-b10/'\n",
    "os.environ['HADOOP_USER_NAME']='hive'\n",
    "os.environ['PYSPARK_PYTHON'] ='/home/anaconda3/envs/main/bin/python'\n",
    "conf = pyspark.SparkConf().setAll([\n",
    "     ('spark.driver.maxResultSize', '0'),\n",
    "     ('spark.driver.memory', '5g'),\n",
    "     ('spark.sql.repl.eagerEval.enabled','true'),\n",
    "     ('spark.sql.warehouse.dir','/users/hive/warehouse/'),\n",
    "     ('hive.strict.managed.tables','false'),\n",
    "     ('hive.metastore.uris', 'thrift://masternode.bigdata:9083'),\n",
    "     ('metastore.client.capability.check','false')\n",
    "    ])\n",
    "spark = SparkSession.builder.master(\"local[*]\").appName(\"view_air_quality_factor_3\").config(conf=conf).enableHiveSupport().getOrCreate();"
   ]
  },
  {
   "cell_type": "code",
   "execution_count": null,
   "id": "c587e1fc",
   "metadata": {},
   "outputs": [],
   "source": [
    "schema = StructType([\n",
    "    StructField(\"location_id\", StringType(), True),\n",
    "    StructField(\"location_type\", StringType(), True),\n",
    "    StructField(\"location_name_th\", StringType(), True),\n",
    "    StructField(\"province_id\", StringType(), True),\n",
    "    StructField(\"province_name\", StringType(), True),\n",
    "    StructField(\"latitude\", DoubleType(), True),\n",
    "    StructField(\"longitude\", DoubleType(), True),\n",
    "    StructField(\"datetime_\", TimestampType(), True),\n",
    "    StructField(\"time24hr\", IntegerType(), True),\n",
    "    StructField(\"dayofweek\", IntegerType(), True),\n",
    "    StructField(\"month\", IntegerType(), True),\n",
    "    StructField(\"wind_speed\", FloatType(), True),\n",
    "    StructField(\"wind_direction\", FloatType(), True),\n",
    "    StructField(\"air_temperature\", FloatType(), True),\n",
    "    StructField(\"srad\", FloatType(), True),\n",
    "    StructField(\"so2\", FloatType(), True),\n",
    "    StructField(\"relative_humidity\", FloatType(), True),\n",
    "    StructField(\"rainfall\", FloatType(), True),\n",
    "    StructField(\"pm25\", FloatType(), True),\n",
    "    StructField(\"pm10\", FloatType(), True),\n",
    "    StructField(\"o3\", FloatType(), True),\n",
    "    StructField(\"nard\", FloatType(), True),\n",
    "    StructField(\"nox\", FloatType(), True),\n",
    "    StructField(\"no2\", FloatType(), True),\n",
    "    StructField(\"no_\", FloatType(), True),\n",
    "    StructField(\"co\", FloatType(), True),\n",
    "    StructField(\"bp\", FloatType(), True),\n",
    "    StructField(\"index_color\", StringType(), True),\n",
    "    StructField(\"index_name\", StringType(), True),\n",
    "    StructField(\"desc_\", StringType(), True),\n",
    "    StructField(\"physical\", StringType(), True),\n",
    "    StructField(\"suggestion\", StringType(), True),\n",
    "    StructField(\"confidence\", StringType(), True),\n",
    "    StructField(\"aqi\", FloatType(), True),\n",
    "    StructField(\"aqi_level\", IntegerType(), True),\n",
    "    StructField(\"stationpressure\", FloatType(), True),\n",
    "    StructField(\"vaporpressure\", FloatType(), True),\n",
    "    StructField(\"index_symbol\", StringType(), True),\n",
    "    StructField(\"update_dt\", TimestampType(), True),\n",
    "])"
   ]
  },
  {
   "attachments": {},
   "cell_type": "markdown",
   "id": "bf5e2b2c",
   "metadata": {},
   "source": [
    "## Read JSON"
   ]
  },
  {
   "cell_type": "code",
   "execution_count": null,
   "id": "a9af4395",
   "metadata": {},
   "outputs": [],
   "source": [
    "url = \"https://covid19.ddc.moph.go.th/api/Cases/round-1to2-line-lists\"\n",
    "r = requests.get(url)\n",
    "df = spark.createDataFrame(r.json()['data'], schema=schema)"
   ]
  },
  {
   "cell_type": "code",
   "execution_count": null,
   "id": "1802a7fe",
   "metadata": {},
   "outputs": [],
   "source": [
    "df = pd.read_csv(\"5.csv\",sep=\"|\", on_bad_lines='skip')\n",
    "df.to_csv('/tmp/5.csv', sep=\"|\", index=False)\n",
    "df.head(1)"
   ]
  },
  {
   "cell_type": "code",
   "execution_count": null,
   "id": "f0f1821c",
   "metadata": {},
   "outputs": [],
   "source": [
    "dup = spark.read.format(\"csv\").load(\"file:///tmp/5.csv\", sep=\"|\", index=False, schema=schema)\n",
    "# df.show()"
   ]
  },
  {
   "cell_type": "code",
   "execution_count": null,
   "id": "bee6ac2a",
   "metadata": {},
   "outputs": [],
   "source": [
    "dup.write.mode(\"append\").saveAsTable(\"default.view_air_quality_factor_3\")"
   ]
  },
  {
   "cell_type": "code",
   "execution_count": null,
   "id": "c3a1f99a",
   "metadata": {},
   "outputs": [],
   "source": [
    "dup.write.mode(\"overwrite\").saveAsTable(\"default.view_air_quality_factor_3\")"
   ]
  },
  {
   "cell_type": "markdown",
   "id": "74d6cd89",
   "metadata": {},
   "source": [
    "## Get Data From Hive With Trino"
   ]
  },
  {
   "cell_type": "code",
   "execution_count": null,
   "id": "aa00ca8a",
   "metadata": {},
   "outputs": [],
   "source": [
    "import trino\n",
    "import pandas as pd"
   ]
  },
  {
   "cell_type": "code",
   "execution_count": null,
   "id": "c4b2b9d2",
   "metadata": {},
   "outputs": [],
   "source": [
    "conn = trino.dbapi.connect(\n",
    "    host=\"172.16.23.200\",\n",
    "    port=8443,\n",
    "    user=\"hive\",\n",
    "    catalog=\"hive\",\n",
    "    schema=\"default\",\n",
    ")"
   ]
  },
  {
   "cell_type": "code",
   "execution_count": null,
   "id": "4e46904f",
   "metadata": {},
   "outputs": [],
   "source": [
    "df = pd.read_sql(\"SELECT * FROM default.view_air_quality_factor_2 offset 4000000 limit 1000000\", conn)"
   ]
  },
  {
   "cell_type": "code",
   "execution_count": null,
   "id": "aa797102",
   "metadata": {},
   "outputs": [],
   "source": [
    "df.shape"
   ]
  },
  {
   "cell_type": "code",
   "execution_count": null,
   "id": "9e3ced1d",
   "metadata": {},
   "outputs": [],
   "source": [
    "df.to_csv('5.csv', sep=\"|\", index=False, header=False)"
   ]
  }
 ],
 "metadata": {
  "kernelspec": {
   "display_name": "Python 3 (ipykernel)",
   "language": "python",
   "name": "python3"
  },
  "language_info": {
   "codemirror_mode": {
    "name": "ipython",
    "version": 3
   },
   "file_extension": ".py",
   "mimetype": "text/x-python",
   "name": "python",
   "nbconvert_exporter": "python",
   "pygments_lexer": "ipython3",
   "version": "3.9.7"
  }
 },
 "nbformat": 4,
 "nbformat_minor": 5
}
