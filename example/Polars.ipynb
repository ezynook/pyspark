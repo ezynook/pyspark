{
 "cells": [
  {
   "cell_type": "markdown",
   "id": "ca891984-249f-40a5-907a-3040140b968c",
   "metadata": {},
   "source": [
    "<img src=\"https://raw.githubusercontent.com/pola-rs/polars-static/master/logos/polars-logo-dark-medium.png\" width=\"150\">\n",
    "\n",
    "## How to Use Polar DataFrame\n",
    "\n",
    "[Benchmark Image](https://miro.medium.com/v2/resize:fit:4800/format:webp/0*2n0WxR2qvc1z5fMg.png)\n",
    "\n",
    "[See More](https://pola-rs.github.io/polars/py-polars/html/reference/index.html)\n",
    "\n",
    "---\n",
    "> ### Polars เร็วกว่า Library ที่ทำงานในลักษณะ Parallel อย่าง Python เช่น Pandas นั่นเป็นเพราะ Polars เขียนด้วย Rust และ Rust นั้นดีกว่า Python มากเมื่อใช้งานพร้อมกัน\n",
    "\n",
    "---\n",
    "### Install Library\n",
    "```javascript\n",
    "pip install polars[all]\n",
    "```"
   ]
  },
  {
   "cell_type": "code",
   "execution_count": 18,
   "id": "893cc5c5-28ac-48db-9d42-6db2dab8f349",
   "metadata": {
    "tags": []
   },
   "outputs": [],
   "source": [
    "import polars as pl\n",
    "import pandas as pd\n",
    "from sqlalchemy import create_engine\n",
    "import pymysql as pymysql\n",
    "from urllib.parse import quote"
   ]
  },
  {
   "cell_type": "code",
   "execution_count": 19,
   "id": "ebfa5daa-1d8a-4498-beaa-64aac68d815f",
   "metadata": {
    "tags": []
   },
   "outputs": [],
   "source": [
    "engine = create_engine('mysql+pymysql://root:%s@192.168.10.22/test' % quote('P@ssw0rd'))"
   ]
  },
  {
   "cell_type": "markdown",
   "id": "0c832212-f73e-464d-9f7b-7a71c4dc2901",
   "metadata": {
    "tags": []
   },
   "source": [
    "## Read CSV"
   ]
  },
  {
   "cell_type": "code",
   "execution_count": 8,
   "id": "cb1d9957-4293-4d67-86fe-a7ec020a9a40",
   "metadata": {
    "tags": []
   },
   "outputs": [],
   "source": [
    "df = pl.read_csv('https://vincentarelbundock.github.io/Rdatasets/csv/openintro/military.csv')"
   ]
  },
  {
   "cell_type": "markdown",
   "id": "280cf682-d0b4-449a-8e46-9b2d39429805",
   "metadata": {
    "tags": []
   },
   "source": [
    "## Rename Columns"
   ]
  },
  {
   "cell_type": "code",
   "execution_count": 9,
   "id": "9aa671c6-0385-467a-801b-8fe9f3eb1c44",
   "metadata": {},
   "outputs": [],
   "source": [
    "df = df.rename({\"\":\"idx\"})"
   ]
  },
  {
   "cell_type": "markdown",
   "id": "0ea6f52f-3732-4925-ac59-ee8a716d022f",
   "metadata": {
    "tags": []
   },
   "source": [
    "## Set column names"
   ]
  },
  {
   "cell_type": "code",
   "execution_count": null,
   "id": "3f67f550-a9bc-4749-a87f-b764b4b8ba96",
   "metadata": {},
   "outputs": [],
   "source": [
    "df.columns = [\"apple\", \"banana\", \"orange\"]"
   ]
  },
  {
   "cell_type": "markdown",
   "id": "7eb4b6a7-afcd-4a52-b64d-a8ea61e6d58e",
   "metadata": {},
   "source": [
    "## Find Duplicates"
   ]
  },
  {
   "cell_type": "code",
   "execution_count": null,
   "id": "6b4172b1-1774-4c62-bb02-a39b060787bc",
   "metadata": {
    "tags": []
   },
   "outputs": [],
   "source": [
    "df.filter(df.is_duplicated())"
   ]
  },
  {
   "cell_type": "markdown",
   "id": "70693dbc-e7a2-4ed5-8967-fa1e8e9a2514",
   "metadata": {},
   "source": [
    "## Drop Nulls"
   ]
  },
  {
   "cell_type": "code",
   "execution_count": null,
   "id": "552ea4c0-2c66-4327-bd8c-a22369bf5f09",
   "metadata": {
    "tags": []
   },
   "outputs": [],
   "source": [
    "df = df.drop_nulls()"
   ]
  },
  {
   "cell_type": "markdown",
   "id": "c0914266-2179-4382-96fc-549c53ce34b4",
   "metadata": {},
   "source": [
    "## List to rows (Explode)"
   ]
  },
  {
   "cell_type": "code",
   "execution_count": null,
   "id": "0105dcdb-cdc9-456f-b1ef-e5504b4fa679",
   "metadata": {},
   "outputs": [],
   "source": [
    "df = df.explode(\"numbers\")"
   ]
  },
  {
   "cell_type": "markdown",
   "id": "3b915a0f-5640-48f9-af31-ae03d667bb7f",
   "metadata": {},
   "source": [
    "## Replace Fill NaN"
   ]
  },
  {
   "cell_type": "code",
   "execution_count": null,
   "id": "5b7ae0ad-d141-42b6-9ea0-8660db0bca80",
   "metadata": {
    "tags": []
   },
   "outputs": [],
   "source": [
    "df = df.fill_nan(\"Value to Replace\")"
   ]
  },
  {
   "cell_type": "markdown",
   "id": "bb551983-ba36-46a2-9f89-497fe11300bd",
   "metadata": {},
   "source": [
    "## Replace None Fill"
   ]
  },
  {
   "cell_type": "code",
   "execution_count": null,
   "id": "2e6629da-6c01-4654-9536-7f1d3626ba45",
   "metadata": {},
   "outputs": [],
   "source": [
    "df = df.fill_null(\"Value to replace\")"
   ]
  },
  {
   "cell_type": "markdown",
   "id": "255afcec-1932-46ea-b66b-92cb192134c7",
   "metadata": {},
   "source": [
    "<h1 align=\"center\">Filter Session</h1>"
   ]
  },
  {
   "cell_type": "markdown",
   "id": "444096c0-7493-4665-8f9e-011b24683b4c",
   "metadata": {},
   "source": [
    "## Filter on one condition"
   ]
  },
  {
   "cell_type": "code",
   "execution_count": null,
   "id": "be4a227d-c4b1-484c-873e-044ef765e65a",
   "metadata": {
    "tags": []
   },
   "outputs": [],
   "source": [
    "df.filter(pl.col(\"hisp\") == 'false')"
   ]
  },
  {
   "cell_type": "markdown",
   "id": "27dea2fd-bc2e-458f-9285-909e3474768c",
   "metadata": {},
   "source": [
    "## Filter by contains string (LIKE)"
   ]
  },
  {
   "cell_type": "code",
   "execution_count": null,
   "id": "28082942-3ec7-4087-a520-7641e68bff5c",
   "metadata": {},
   "outputs": [],
   "source": [
    "df = df.filter(pl.col(\"Plate ID\").str.contains(r\"[a1]\"))"
   ]
  },
  {
   "cell_type": "markdown",
   "id": "73116d11-2fac-4cd8-88eb-e8fa2b0107b9",
   "metadata": {},
   "source": [
    "## Filter on multiple conditions"
   ]
  },
  {
   "cell_type": "code",
   "execution_count": null,
   "id": "bd5ec22a-f7e7-4146-8ad6-f9c0a265708e",
   "metadata": {},
   "outputs": [],
   "source": [
    "#AND\n",
    "df.filter((pl.col(\"foo\") < 3) & (pl.col(\"ham\") == \"a\"))\n",
    "#OR\n",
    "df.filter((pl.col(\"foo\") == 1) | (pl.col(\"ham\") == \"c\"))"
   ]
  },
  {
   "cell_type": "markdown",
   "id": "317c5f12-8a35-42d7-9b78-e508a0b08e82",
   "metadata": {},
   "source": [
    "## Find the index of a column by name"
   ]
  },
  {
   "cell_type": "code",
   "execution_count": null,
   "id": "39d54ee2-3d8d-4109-9907-b48a8ed901e0",
   "metadata": {},
   "outputs": [],
   "source": [
    "df.find_idx_by_name(\"column name\")"
   ]
  },
  {
   "cell_type": "markdown",
   "id": "3e56d0ac-75ec-4c98-b8cc-b7273472f43d",
   "metadata": {},
   "source": [
    "<h1 align=\"center\"> Loop Session</h1>"
   ]
  },
  {
   "cell_type": "code",
   "execution_count": null,
   "id": "03d08835-5a92-4d39-afc1-524b09c08eb3",
   "metadata": {
    "tags": []
   },
   "outputs": [],
   "source": [
    "for row in df.iter_rows(named=True):\n",
    "    print(row['grade'])"
   ]
  },
  {
   "cell_type": "code",
   "execution_count": null,
   "id": "f2ee46a2-50a8-408d-aa91-06b26aaa45bf",
   "metadata": {},
   "outputs": [],
   "source": [
    "for row in df.rows():\n",
    "    print(i) #เข้าถึงตำแหน่งด้วย Indexs"
   ]
  },
  {
   "cell_type": "markdown",
   "id": "06fc3e4e-7675-4a21-b5a7-38f8e045af84",
   "metadata": {},
   "source": [
    "## Join Dataframe"
   ]
  },
  {
   "cell_type": "code",
   "execution_count": null,
   "id": "5e369971-2696-4747-8105-3277de5c208a",
   "metadata": {},
   "outputs": [],
   "source": [
    "df = df.join(other_df, on=\"columns_to_join\")"
   ]
  },
  {
   "cell_type": "markdown",
   "id": "a096e392-4199-44fc-a558-05c61e70b583",
   "metadata": {},
   "source": [
    "## Partition By"
   ]
  },
  {
   "cell_type": "code",
   "execution_count": null,
   "id": "f6a917c0-9313-4f80-bf65-a31aa604508c",
   "metadata": {},
   "outputs": [],
   "source": [
    "df = df.partition_by(\"a\")"
   ]
  },
  {
   "cell_type": "markdown",
   "id": "843bce89-879d-498e-b4a9-4a80bdeeff56",
   "metadata": {},
   "source": [
    "## Select Columns"
   ]
  },
  {
   "cell_type": "code",
   "execution_count": null,
   "id": "ebd9d8c4-917f-4ab0-9d8b-523b2d2df62f",
   "metadata": {},
   "outputs": [],
   "source": [
    "df = df.select([\"foo\", \"bar\"])"
   ]
  },
  {
   "cell_type": "markdown",
   "id": "7e37e46a-5421-40b7-b325-5b31559935e2",
   "metadata": {},
   "source": [
    "## Select and Sort"
   ]
  },
  {
   "cell_type": "code",
   "execution_count": null,
   "id": "365b2eb1-2f2b-48d8-9c2f-79d3a3e9532f",
   "metadata": {},
   "outputs": [],
   "source": [
    "df.select(\n",
    "    pl.col(['Model','Sales']).sort_by('Sales')    \n",
    ")"
   ]
  },
  {
   "cell_type": "markdown",
   "id": "8e75f66b-b8e6-4ff4-bffe-429978760381",
   "metadata": {},
   "source": [
    "## Selecting Rows and Columns"
   ]
  },
  {
   "cell_type": "code",
   "execution_count": null,
   "id": "90bddee3-634a-42a1-bd30-4972946c2b04",
   "metadata": {},
   "outputs": [],
   "source": [
    "df.filter(\n",
    "    pl.col('Company') == 'Apple'\n",
    ").select(['Model','Sales'])"
   ]
  },
  {
   "cell_type": "markdown",
   "id": "3cd25a65-7730-4cc8-b7fa-edc4bf28d8d3",
   "metadata": {},
   "source": [
    "## Transpose (List to Vertical rows)"
   ]
  },
  {
   "cell_type": "code",
   "execution_count": null,
   "id": "71ec2c19-03ba-401c-945a-92342d27813a",
   "metadata": {},
   "outputs": [],
   "source": [
    "df = pl.DataFrame({\"a\": [1, 2, 3], \"b\": [1, 2, 3]})\n",
    "df.transpose(include_header=True)"
   ]
  },
  {
   "cell_type": "markdown",
   "id": "cc671213-1d31-4c6b-a37d-538a599a65b8",
   "metadata": {},
   "source": [
    "## Add new Columns with Condition"
   ]
  },
  {
   "cell_type": "code",
   "execution_count": null,
   "id": "34b86d63-9447-4258-99ce-158d765bebca",
   "metadata": {
    "tags": []
   },
   "outputs": [],
   "source": [
    "#Single Columns\n",
    "df.with_columns((pl.col(\"df.with_columns(pl.col(\"a\").cast(pl.Float64))\") ** 2).alias(\"a^2\"))\n",
    "#Multiple Columns\n",
    "df.with_columns(\n",
    "    [\n",
    "        (pl.col(\"a\") ** 2).alias(\"a^2\"),\n",
    "        (pl.col(\"b\") / 2).alias(\"b/2\"),\n",
    "        (pl.col(\"c\").is_not()).alias(\"not c\"),\n",
    "    ]\n",
    ")"
   ]
  },
  {
   "cell_type": "markdown",
   "id": "bc754fbd-5a9e-4b57-88dc-6b643a09a2c6",
   "metadata": {},
   "source": [
    "## Add Columns and Cast Type"
   ]
  },
  {
   "cell_type": "code",
   "execution_count": null,
   "id": "6e2977dd-2402-4ce0-aa2a-c2a56fb65e82",
   "metadata": {
    "tags": []
   },
   "outputs": [],
   "source": [
    "df.with_columns(pl.col(\"rank\").cast(pl.Float64))"
   ]
  },
  {
   "cell_type": "markdown",
   "id": "efb420c4-a9af-44f0-b697-5777c952d625",
   "metadata": {},
   "source": [
    "## Concat two DataFrame"
   ]
  },
  {
   "cell_type": "code",
   "execution_count": null,
   "id": "e3870d5b-77c6-4ea5-8eb2-0646708a0c85",
   "metadata": {},
   "outputs": [],
   "source": [
    "result_df = pl.concat([\n",
    "        df1,\n",
    "        df2,\n",
    "    ],\n",
    "    how=\"vertical\",\n",
    ")"
   ]
  },
  {
   "cell_type": "markdown",
   "id": "be9c67a6-0037-4bc9-a6f9-21c843c0f5a6",
   "metadata": {},
   "source": [
    "## Write to Parquet"
   ]
  },
  {
   "cell_type": "code",
   "execution_count": 10,
   "id": "ad2f1257-82a1-4a99-b828-a7c819af065e",
   "metadata": {
    "tags": []
   },
   "outputs": [],
   "source": [
    "df.write_parquet(\n",
    "    \"./test_parquet.parquet\",\n",
    "    compression=\"snappy\",\n",
    "    use_pyarrow=True\n",
    ")"
   ]
  },
  {
   "cell_type": "markdown",
   "id": "e0063fa1-7ef0-46ee-829f-7092219b4c72",
   "metadata": {},
   "source": [
    "## Write to CSV"
   ]
  },
  {
   "cell_type": "code",
   "execution_count": 22,
   "id": "1544f734-f1c4-4ca3-86dc-94281b94abbc",
   "metadata": {
    "tags": []
   },
   "outputs": [],
   "source": [
    "df.write_csv(\n",
    "    \"./test_csv.csv\",\n",
    "    separator=\"|\"\n",
    ")"
   ]
  },
  {
   "cell_type": "markdown",
   "id": "a5de0b6a-19a0-48fc-9848-f7206eb2b2e1",
   "metadata": {},
   "source": [
    "## Polars to Pandas"
   ]
  },
  {
   "cell_type": "code",
   "execution_count": 28,
   "id": "b0b28551-b62b-4ad1-8f47-0ffb663e0841",
   "metadata": {
    "tags": []
   },
   "outputs": [],
   "source": [
    "df2 = df.to_pandas()"
   ]
  }
 ],
 "metadata": {
  "kernelspec": {
   "display_name": "Python 3 (ipykernel)",
   "language": "python",
   "name": "python3"
  },
  "language_info": {
   "codemirror_mode": {
    "name": "ipython",
    "version": 3
   },
   "file_extension": ".py",
   "mimetype": "text/x-python",
   "name": "python",
   "nbconvert_exporter": "python",
   "pygments_lexer": "ipython3",
   "version": "3.9.16"
  }
 },
 "nbformat": 4,
 "nbformat_minor": 5
}
