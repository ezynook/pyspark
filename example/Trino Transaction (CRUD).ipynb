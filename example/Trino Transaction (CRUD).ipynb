{
 "cells": [
  {
   "cell_type": "markdown",
   "id": "41f2975b-a888-4db1-afcb-227383de38bb",
   "metadata": {},
   "source": [
    "# การใช้งาน Transaction Trino\n",
    "---\n",
    "> ### Function นี้รองรับเฉพาะ Hive >= 3 เท่านั้น\n",
    "## Step Hive Enable ACID Transactions\n",
    "#### Hive-site.xml Setting (Ambari or Cloudera)\n",
    "* Create Tables as ACID Insert Only = False (On Ambari)\n",
    "* hive.support.concurrency = true\n",
    "* hive.enforce.bucketing = true\n",
    "* hive.create.as.external.legacy = true\n",
    "* hive.exec.dynamic.partition.mode = nonstrict\n",
    "* hive.txn.manager = org.apache.hadoop.hive.ql.lockmgr.DbTxnManager\n",
    "* Trino Catalog > /home/trino/etc/catalog/hive/properties <br>\n",
    "Add Above Line `hive.storage-format=ORC`\n",
    "---\n",
    "## สร้าง Table ที่ Trino\n",
    "---\n",
    "```sh\n",
    "CREATE TABLE hive.default.covid (\n",
    "\tyear int,\n",
    "\tweeknum int,\n",
    "\tprovince varchar,\n",
    "\tnew_case int,\n",
    "\ttotal_case int,\n",
    "\tnew_case_excludeabroad int,\n",
    "\ttotal_case_excludeabroad int,\n",
    "\tnew_death int,\n",
    "\ttotal_death int,\n",
    "\tupdate_date varchar,\n",
    "    idx\n",
    ")\n",
    "WITH (\n",
    "  format = 'ORC',\n",
    "  transactional=true,\n",
    "  partitioned_by = ARRAY['idx'],\n",
    "  bucketed_by = ARRAY['province'],\n",
    "  bucket_count = 5\n",
    ");\n",
    "```\n",
    "## Install Libraly\n",
    "---\n",
    "```bash\n",
    "pip install pandas==2.0.0rc0\n",
    "pip install trino\n",
    "pip install trino[sqlalchemy]\n",
    "```"
   ]
  },
  {
   "cell_type": "code",
   "execution_count": null,
   "id": "56ec8720-38c3-4fee-96f1-3c03c0e83415",
   "metadata": {
    "tags": []
   },
   "outputs": [],
   "source": [
    "import pandas as pd\n",
    "from trino.dbapi import connect\n",
    "import os\n",
    "from sqlalchemy import create_engine\n",
    "from sqlalchemy.schema import Table, MetaData\n",
    "from sqlalchemy.sql.expression import select, text"
   ]
  },
  {
   "cell_type": "markdown",
   "id": "0839b0b1",
   "metadata": {},
   "source": [
    "> ### Set Default Backend Pandas to Arrow"
   ]
  },
  {
   "cell_type": "code",
   "execution_count": null,
   "id": "bdecb73a",
   "metadata": {},
   "outputs": [],
   "source": [
    "pd.options.mode.dtype_backend = 'pyarrow'"
   ]
  },
  {
   "cell_type": "markdown",
   "id": "22b6c1ca-bc36-4e5e-8d4c-4f1342d72216",
   "metadata": {},
   "source": [
    "> ### Trino Connect with SQLAlchemy, Trino API"
   ]
  },
  {
   "cell_type": "code",
   "execution_count": null,
   "id": "5d6d1f51-0736-416e-8a06-3ceb6979082e",
   "metadata": {
    "tags": []
   },
   "outputs": [],
   "source": [
    "engine = create_engine('trino://hive:@192.168.10.210:8090/hive/transaction')\n",
    "cur = engine.connect()"
   ]
  },
  {
   "cell_type": "code",
   "execution_count": null,
   "id": "fa92cbbc-4f2a-4206-a287-3571659fa72a",
   "metadata": {
    "tags": []
   },
   "outputs": [],
   "source": [
    "df = pd.read_json(\"https://covid19.ddc.moph.go.th/api/Cases/today-cases-by-provinces\")"
   ]
  },
  {
   "cell_type": "markdown",
   "id": "09687d14",
   "metadata": {},
   "source": [
    "> ### Finding Max ID For insert using to Partitioned ORC"
   ]
  },
  {
   "cell_type": "code",
   "execution_count": null,
   "id": "eb1a5d2c",
   "metadata": {},
   "outputs": [],
   "source": [
    "max_id = pd.read_sql(\"SELECT MAX(id) as max_id FROM hive.transaction.covid\", con=engine)"
   ]
  },
  {
   "cell_type": "markdown",
   "id": "7be278cd",
   "metadata": {},
   "source": [
    "> ### Loop inserting row-by-row Using Transaction"
   ]
  },
  {
   "cell_type": "code",
   "execution_count": null,
   "id": "d8a490ef-568d-478a-888d-801b4e298c41",
   "metadata": {
    "tags": []
   },
   "outputs": [],
   "source": [
    "i = max_id['max_id'].astype(int).iloc[0]\n",
    "for row in df.itertuples():\n",
    "    i = i + 1\n",
    "    sql = f\"\"\"\n",
    "    INSERT INTO\n",
    "    \thive.transaction.covid\n",
    "\tVALUES (\n",
    "    \t{row.year},\n",
    "        {row.weeknum},\n",
    "        '{row.province}',\n",
    "        {row.new_case},\n",
    "        {row.total_case},\n",
    "        {row.new_case_excludeabroad},\n",
    "        {row.total_case_excludeabroad},\n",
    "        {row.new_death},\n",
    "        {row.total_death},\n",
    "        '{row.update_date}',\n",
    "        {i}\n",
    "        )\n",
    "    \"\"\"\n",
    "    cur.execute(sql)\n",
    "    print('Insert Rows :', row.province, 'Number of Insert:', i)"
   ]
  },
  {
   "cell_type": "markdown",
   "id": "85645ab8",
   "metadata": {},
   "source": [
    "> ### Update"
   ]
  },
  {
   "cell_type": "code",
   "execution_count": null,
   "id": "c259d192-fdee-4717-951f-1989668a1db4",
   "metadata": {},
   "outputs": [],
   "source": [
    "cur.execute(\"UPDATE default.covid SET province = 'Bangkok City' WHERE province = 'กรุงเทพมหานคร'\")"
   ]
  },
  {
   "cell_type": "markdown",
   "id": "af92b44e",
   "metadata": {},
   "source": [
    "> ### Delete"
   ]
  },
  {
   "cell_type": "code",
   "execution_count": null,
   "id": "ee7a9c46-3276-45c0-9062-7b71592e687e",
   "metadata": {},
   "outputs": [],
   "source": [
    "cur.execute(\"DELETE FROM transaction.covid\")"
   ]
  }
 ],
 "metadata": {
  "kernelspec": {
   "display_name": "Python 3 (ipykernel)",
   "language": "python",
   "name": "python3"
  },
  "language_info": {
   "codemirror_mode": {
    "name": "ipython",
    "version": 3
   },
   "file_extension": ".py",
   "mimetype": "text/x-python",
   "name": "python",
   "nbconvert_exporter": "python",
   "pygments_lexer": "ipython3",
   "version": "3.9.16"
  }
 },
 "nbformat": 4,
 "nbformat_minor": 5
}
