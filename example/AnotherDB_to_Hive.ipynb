{
 "cells": [
  {
   "cell_type": "code",
   "execution_count": null,
   "id": "735eafed-784b-4dd9-a1a8-6da44ec1f061",
   "metadata": {
    "tags": []
   },
   "outputs": [],
   "source": [
    "from pyspark.sql import SparkSession\n",
    "from pyspark.sql.types import *\n",
    "from pyspark.sql.functions import *\n",
    "import pyspark\n",
    "import pandas as pd\n",
    "from urllib.parse import quote\n",
    "import os\n",
    "import requests\n",
    "from datetime import datetime\n",
    "import pymysql\n",
    "from sqlalchemy import create_engine"
   ]
  },
  {
   "cell_type": "code",
   "execution_count": null,
   "id": "56ce50a6-1b64-4d36-b0bb-898c660a39a0",
   "metadata": {
    "tags": []
   },
   "outputs": [],
   "source": [
    "mysqlcon = create_engine('mysql+pymysql://root:%s@192.168.10.22/test' % quote('P@ssw0rd'))"
   ]
  },
  {
   "cell_type": "code",
   "execution_count": null,
   "id": "58842d0f-0875-46dc-b841-82a5e2ecb982",
   "metadata": {
    "tags": []
   },
   "outputs": [],
   "source": [
    "now = datetime.now()\n",
    "today = now.strftime(\"%Y-%m-%d %H:%M:%S\")"
   ]
  },
  {
   "cell_type": "code",
   "execution_count": null,
   "id": "aa8bd415-9c2b-4348-b3f6-10ce1b978448",
   "metadata": {
    "tags": []
   },
   "outputs": [],
   "source": [
    "os.environ['HADOOP_CONF_DIR'] = '/etc/hadoop/conf'\n",
    "os.environ['JAVA_HOME'] = '/usr/local/jdk8u222-b10'\n",
    "os.environ['HADOOP_USER_NAME']='hive'\n",
    "os.environ['PYSPARK_PYTHON'] ='/HDFS01/anaconda3/envs/main/bin/python'\n",
    "conf = pyspark.SparkConf().setAll([\n",
    "     ('spark.driver.maxResultSize', '0'),\n",
    "     ('spark.driver.memory', '2g'),\n",
    "     (\"spark.driver.allowMultipleContexts\", \"true\"),\n",
    "     ('spark.sql.repl.eagerEval.enabled','true'),\n",
    "     ('hive.strict.managed.tables','false'),\n",
    "     ('hive.metastore.uris', 'thrift://nn01.bigdata:9083'),\n",
    "     ('metastore.client.capability.check','false')\n",
    "    ])\n",
    "spark = SparkSession.builder \\\n",
    "        .master(\"local[*]\") \\\n",
    "        .appName(\"read_mysql_to_hive\") \\\n",
    "        .config(conf=conf) \\\n",
    "        .enableHiveSupport() \\\n",
    "        .getOrCreate();"
   ]
  },
  {
   "cell_type": "code",
   "execution_count": null,
   "id": "14823566-2cea-4ffc-a2c0-a63145c21f31",
   "metadata": {
    "tags": []
   },
   "outputs": [],
   "source": [
    "cols = StructType([\n",
    "    StructField(\"task_id\", StringType(), True),\n",
    "    StructField(\"dag_id\", StringType(), True),\n",
    "    StructField(\"run_id\", StringType(), True),\n",
    "    StructField(\"start_date\", StringType(), True),\n",
    "    StructField(\"end_date\", StringType(), True),\n",
    "    StructField(\"duration\", DoubleType(), True),\n",
    "    StructField(\"state\", StringType(), True),\n",
    "    StructField(\"try_number\", IntegerType(), True),\n",
    "    StructField(\"hostname\", StringType(), True),\n",
    "    StructField(\"unixname\", StringType(), True),\n",
    "    StructField(\"job_id\", FloatType(), True),\n",
    "    StructField(\"pool\", StringType(), True),\n",
    "    StructField(\"queue\", StringType(), True),\n",
    "    StructField(\"priority_weight\", IntegerType(), True),\n",
    "    StructField(\"operator\", StringType(), True),\n",
    "    StructField(\"queued_dttm\", StringType(), True),\n",
    "    StructField(\"pid\", FloatType(), True),\n",
    "    StructField(\"max_tries\", IntegerType(), True),\n",
    "    StructField(\"executor_config\", StringType(), True),\n",
    "    StructField(\"pool_slots\", IntegerType(), True),\n",
    "    StructField(\"queued_by_job_id\", FloatType(), True),\n",
    "    StructField(\"external_executor_id\", StringType(), True),\n",
    "    StructField(\"trigger_id\", StringType(), True),\n",
    "    StructField(\"trigger_timeout\", StringType(), True),\n",
    "    StructField(\"next_method\", StringType(), True),\n",
    "    StructField(\"next_kwargs\", StringType(), True),\n",
    "])"
   ]
  },
  {
   "cell_type": "code",
   "execution_count": null,
   "id": "f2133243-1884-4620-968a-ffb00dc7c858",
   "metadata": {
    "tags": []
   },
   "outputs": [],
   "source": [
    "def get_mysql_data():\n",
    "    sql = \"SELECT * FROM data limit 50\"\n",
    "    strMysql = pd.read_sql_query(sql, con = mysqlcon)\n",
    "    print(\"Read Data From MySQL ...\")\n",
    "    return strMysql"
   ]
  },
  {
   "cell_type": "code",
   "execution_count": null,
   "id": "6deff134-1624-44c6-bb7f-d9d1c31a4e87",
   "metadata": {
    "tags": []
   },
   "outputs": [],
   "source": [
    "def write_to_hive():\n",
    "    mysql_data = get_mysql_data()\n",
    "    df = spark.createDataFrame(mysql_data, schema = cols)\n",
    "    df = df.withColumn(\"update_date\", lit(today))\n",
    "    if spark.sql(\"show tables in pyspark\").filter(\"tableName == 'eg_mysql'\").count() > 0:\n",
    "        print(\"Save to Hive: Append Mode\")\n",
    "        df.write \\\n",
    "            .mode(\"append\") \\\n",
    "            .partitionBy(\"dag_id\") \\\n",
    "            .saveAsTable(\"pyspark.eg_mysql\")\n",
    "    else:\n",
    "        print(\"Save to Hive: Overwrite Mode\")\n",
    "        df.write \\\n",
    "            .mode(\"overwrite\") \\\n",
    "            .partitionBy(\"dag_id\") \\\n",
    "            .saveAsTable(\"pyspark.eg_mysql\")"
   ]
  },
  {
   "cell_type": "code",
   "execution_count": null,
   "id": "2fc8914d-5be3-4300-ae88-74251bd36d1b",
   "metadata": {
    "tags": []
   },
   "outputs": [],
   "source": [
    "if __name__ == '__main__':\n",
    "    write_to_hive()"
   ]
  },
  {
   "cell_type": "code",
   "execution_count": null,
   "id": "91bf4c62-821b-470a-bb82-964fce31f3b1",
   "metadata": {},
   "outputs": [],
   "source": []
  }
 ],
 "metadata": {
  "kernelspec": {
   "display_name": "Python 3 (ipykernel)",
   "language": "python",
   "name": "python3"
  },
  "language_info": {
   "codemirror_mode": {
    "name": "ipython",
    "version": 3
   },
   "file_extension": ".py",
   "mimetype": "text/x-python",
   "name": "python",
   "nbconvert_exporter": "python",
   "pygments_lexer": "ipython3",
   "version": "3.9.16"
  }
 },
 "nbformat": 4,
 "nbformat_minor": 5
}
