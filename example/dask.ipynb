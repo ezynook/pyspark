{
 "cells": [
  {
   "cell_type": "markdown",
   "id": "7c3e7855-cc46-441f-bccb-e959cde35317",
   "metadata": {},
   "source": [
    "<img src=\"https://examples.dask.org/_static/images/dask-horizontal-white.svg\" width=\"200\">\n",
    "\n",
    "# Dask DataFrame\n",
    "---\n",
    "## วิธีการติดตั้ง\n",
    "```bash\n",
    "pip install \"dask[complete]\"\n",
    "```\n",
    "## วิธีการติดตั้ Jupyterlab-Extension\n",
    "https://github.com/dask/dask-labextension\n",
    "\n",
    "---\n",
    "<img src=\"https://github.com/dask/dask-labextension/raw/main/dask.png\" width=\"700\">"
   ]
  },
  {
   "cell_type": "code",
   "execution_count": null,
   "id": "dc1bebea-b019-4c52-b33a-5b9a3f79e398",
   "metadata": {
    "tags": []
   },
   "outputs": [],
   "source": [
    "import pandas as pd\n",
    "from dask.distributed import Client\n",
    "import dask.dataframe as dd\n",
    "from trino.dbapi import connect"
   ]
  },
  {
   "cell_type": "markdown",
   "id": "916eef43-9e4e-4d50-afcf-96bb3348cf3c",
   "metadata": {},
   "source": [
    "### Make Client Task Stream (http://127.0.0.1:8787)"
   ]
  },
  {
   "cell_type": "code",
   "execution_count": null,
   "id": "b9539be2-816e-4b85-bc1f-f61ae6377e13",
   "metadata": {
    "tags": []
   },
   "outputs": [],
   "source": [
    "#client = Client(processes=False, threads_per_worker=4,\n",
    "                #n_workers=4, memory_limit='4GB')\n",
    "  \n",
    "client = Client()"
   ]
  },
  {
   "cell_type": "code",
   "execution_count": null,
   "id": "d6d5747b-16cb-452f-b0dd-cb7e873f03af",
   "metadata": {
    "tags": []
   },
   "outputs": [],
   "source": [
    "conn = connect(\n",
    "    host=\"192.168.10.210\",\n",
    "    port=8090,\n",
    "    user=\"hive\",\n",
    "    catalog=\"hive\",\n",
    "    schema=\"pyspark\",\n",
    ")\n",
    "cur = conn.cursor()"
   ]
  },
  {
   "cell_type": "code",
   "execution_count": null,
   "id": "24ebb1c5-b3ed-42b2-a5dd-4426d259c102",
   "metadata": {
    "tags": []
   },
   "outputs": [],
   "source": [
    "df1 = pd.read_csv(\"https://vincentarelbundock.github.io/Rdatasets/csv/AER/Fertility.csv\")\n",
    "df2 = pd.read_csv(\"https://vincentarelbundock.github.io/Rdatasets/csv/AER/Fertility.csv\")"
   ]
  },
  {
   "cell_type": "code",
   "execution_count": null,
   "id": "fee79380-e0c8-495b-9dc5-926413e7ec32",
   "metadata": {
    "tags": []
   },
   "outputs": [],
   "source": [
    "df3 = dd.from_pandas(df1, npartitions=2)\n",
    "df4 = dd.from_pandas(df2, npartitions=2)"
   ]
  },
  {
   "cell_type": "code",
   "execution_count": null,
   "id": "6a2b878b-5022-4f44-a3b5-53dfb3d3f998",
   "metadata": {},
   "outputs": [],
   "source": [
    "ddf = dd.concat([df3, df4])"
   ]
  },
  {
   "cell_type": "code",
   "execution_count": null,
   "id": "8536aa15-1164-4df9-b547-b38f1b82619c",
   "metadata": {},
   "outputs": [],
   "source": [
    "ddf.compute()"
   ]
  },
  {
   "cell_type": "code",
   "execution_count": null,
   "id": "4cf62920-11b5-466b-ab94-341f4f9aa019",
   "metadata": {},
   "outputs": [],
   "source": []
  }
 ],
 "metadata": {
  "kernelspec": {
   "display_name": "Python 3 (ipykernel)",
   "language": "python",
   "name": "python3"
  },
  "language_info": {
   "codemirror_mode": {
    "name": "ipython",
    "version": 3
   },
   "file_extension": ".py",
   "mimetype": "text/x-python",
   "name": "python",
   "nbconvert_exporter": "python",
   "pygments_lexer": "ipython3",
   "version": "3.9.16"
  }
 },
 "nbformat": 4,
 "nbformat_minor": 5
}
