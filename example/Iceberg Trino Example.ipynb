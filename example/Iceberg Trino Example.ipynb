{
 "cells": [
  {
   "cell_type": "markdown",
   "id": "b1b6de9c",
   "metadata": {},
   "source": [
    "<h1 align=\"center\">\n",
    "    <b style=\"color: green;\">Trino </b><b style=\"color: red;\">Iceberg </b><b style=\"color: black;\">Example</b>\n",
    "</h1>\n",
    "\n",
    "---"
   ]
  },
  {
   "cell_type": "code",
   "execution_count": null,
   "id": "b206091d",
   "metadata": {},
   "outputs": [],
   "source": [
    "from sqlalchemy import create_engine\n",
    "from sqlalchemy.schema import Table, MetaData\n",
    "from sqlalchemy.sql.expression import select, text\n",
    "import pandas as pd"
   ]
  },
  {
   "cell_type": "code",
   "execution_count": null,
   "id": "e7a595f7",
   "metadata": {},
   "outputs": [],
   "source": [
    "engine = create_engine('trino://root:@192.168.10.210:8090/iceberg/iceberg')\n",
    "connection = engine.connect()"
   ]
  },
  {
   "cell_type": "markdown",
   "id": "b555b4ac",
   "metadata": {},
   "source": [
    "## Re-Snapshot"
   ]
  },
  {
   "cell_type": "code",
   "execution_count": null,
   "id": "efb7e627",
   "metadata": {},
   "outputs": [],
   "source": [
    "connection.execute(\"CALL iceberg.system.rollback_to_snapshot('iceberg_test', 'tbl_example', 822704853044330400)\")"
   ]
  },
  {
   "cell_type": "markdown",
   "id": "9c51a080",
   "metadata": {},
   "source": [
    "## Query เพื่อดูประวัติการ Snapshot"
   ]
  },
  {
   "cell_type": "code",
   "execution_count": null,
   "id": "8553433e",
   "metadata": {},
   "outputs": [],
   "source": [
    "sql = '''\n",
    "    SELECT\n",
    "        *\n",
    "    FROM\n",
    "        iceberg.iceberg_test.\"tbl_example$snapshots\"\n",
    "    ORDER BY\n",
    "        committed_at DESC\n",
    "'''\n",
    "pd.read_sql_query(sql, con=engine)"
   ]
  },
  {
   "cell_type": "markdown",
   "id": "5acf3c85",
   "metadata": {},
   "source": [
    "## แสดงรายการ Record หรือ Rows ทั้งหมดในตารางพร้อมระบุเวลาที่เกิด Condition พร้อมบอกว่า ข้อมูล Row นี้อยู่ในไฟล์ parquet ตัวไหน"
   ]
  },
  {
   "cell_type": "code",
   "execution_count": null,
   "id": "1b625f3b",
   "metadata": {},
   "outputs": [],
   "source": [
    "sql = '''\n",
    "    SELECT\n",
    "        *, \n",
    "        \"$path\", \"$file_modified_time\"\n",
    "    FROM\n",
    "        iceberg.iceberg_test.tbl_example\n",
    "'''\n",
    "pd.read_sql_query(sql, con=engine)"
   ]
  },
  {
   "cell_type": "markdown",
   "id": "339f16c3",
   "metadata": {},
   "source": [
    "## Query แบบระบุไฟล์ Parquet"
   ]
  },
  {
   "cell_type": "code",
   "execution_count": null,
   "id": "18627b63",
   "metadata": {},
   "outputs": [],
   "source": [
    "sql = '''\n",
    "    SELECT\n",
    "        *\n",
    "    FROM\n",
    "        iceberg.iceberg_test.tbl_example\n",
    "    WHERE\n",
    "        \"$path\" = 'hdfs://nn01.bigdata:8020/user/hive/warehouse/iceberg_test/tbl_example/data/20230318_073101_00095_hdwqq-ae0b490d-8fd9-46ab-aed5-526bf34f0ea9.parquet'\n",
    "'''\n",
    "pd.read_sql_query(sql, con=engine)"
   ]
  },
  {
   "cell_type": "code",
   "execution_count": null,
   "id": "6cf9ae24",
   "metadata": {},
   "outputs": [],
   "source": []
  }
 ],
 "metadata": {
  "kernelspec": {
   "display_name": "Python 3 (ipykernel)",
   "language": "python",
   "name": "python3"
  },
  "language_info": {
   "codemirror_mode": {
    "name": "ipython",
    "version": 3
   },
   "file_extension": ".py",
   "mimetype": "text/x-python",
   "name": "python",
   "nbconvert_exporter": "python",
   "pygments_lexer": "ipython3",
   "version": "3.9.16"
  }
 },
 "nbformat": 4,
 "nbformat_minor": 5
}
