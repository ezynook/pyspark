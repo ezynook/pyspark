{
 "cells": [
  {
   "cell_type": "code",
   "execution_count": null,
   "id": "2b2c4591",
   "metadata": {},
   "outputs": [],
   "source": [
    "from pyspark.sql import SparkSession\n",
    "from pyspark.sql.types import *\n",
    "from pyspark.sql.functions import *\n",
    "import pandas as pd\n",
    "import os\n",
    "from urllib.request import urlopen"
   ]
  },
  {
   "cell_type": "code",
   "execution_count": null,
   "id": "b9758c09",
   "metadata": {},
   "outputs": [],
   "source": [
    "spark = SparkSession.builder \\\n",
    "        .master('local[*]') \\\n",
    "        .config(\"hive.metastore.uris\", \"thrift://hive-metastore:9083\") \\\n",
    "        .config(\"spark.sql.warehouse.dir\",\"/users/hive/warehouse/\") \\\n",
    "        .appName('myappname') \\\n",
    "        .enableHiveSupport() \\\n",
    "        .getOrCreate()"
   ]
  },
  {
   "cell_type": "code",
   "execution_count": null,
   "id": "6e8809a9",
   "metadata": {},
   "outputs": [],
   "source": [
    "#Default Read By Pandas\n",
    "df = pd.read_json(\"https://covid19.ddc.moph.go.th/api/Cases/today-cases-by-provinces\")"
   ]
  },
  {
   "cell_type": "markdown",
   "id": "02cec5c0",
   "metadata": {},
   "source": [
    "## อ่านไฟล์ JSON ด้วย Pyspark "
   ]
  },
  {
   "cell_type": "code",
   "execution_count": null,
   "id": "0e756f69",
   "metadata": {},
   "outputs": [],
   "source": [
    "#แบบที่ 1\n",
    "url = 'https://covid19.ddc.moph.go.th/api/Cases/today-cases-by-provinces'\n",
    "jsonData = urlopen(url).read().decode('utf-8')\n",
    "rdd = spark.sparkContext.parallelize([jsonData])\n",
    "df = spark.read.json(rdd)\n",
    "df.select(['year']).limit(5).toPandas()\n",
    "#แบบที่ 2\n",
    "url = \"https://covid19.ddc.moph.go.th/api/Cases/round-1to2-line-lists\"\n",
    "r = requests.get(url)\n",
    "df = spark.createDataFrame(r.json()['data'], schema=schema)"
   ]
  },
  {
   "cell_type": "markdown",
   "id": "d5d3af4d",
   "metadata": {},
   "source": [
    "## สร้าง Dataframe ด้วย Pyspark"
   ]
  },
  {
   "cell_type": "code",
   "execution_count": null,
   "id": "8227ae99",
   "metadata": {},
   "outputs": [],
   "source": [
    "mydf = spark.createDataFrame(df)\n",
    "#Simple View\n",
    "mydf.collect()\n",
    "#Dataframe view\n",
    "#mydf.show()"
   ]
  },
  {
   "cell_type": "markdown",
   "id": "65608267",
   "metadata": {},
   "source": [
    "## อ่าน CSV ด้วย Pyspark"
   ]
  },
  {
   "cell_type": "code",
   "execution_count": null,
   "id": "55a7307f",
   "metadata": {},
   "outputs": [],
   "source": [
    "mydf3 = spark.read.csv(\"path/csv.csv\", header=True, inferSchema=True)\n",
    "mydf3.limit(10).toPandas()"
   ]
  },
  {
   "cell_type": "markdown",
   "id": "5b7d9dac",
   "metadata": {},
   "source": [
    "## ปริ้นดู Schema ด้วย Pyspark"
   ]
  },
  {
   "cell_type": "code",
   "execution_count": null,
   "id": "d2ef88f9",
   "metadata": {},
   "outputs": [],
   "source": [
    "mydf.printSchema()"
   ]
  },
  {
   "cell_type": "markdown",
   "id": "03b6f438",
   "metadata": {},
   "source": [
    "## Drop Columns"
   ]
  },
  {
   "cell_type": "code",
   "execution_count": null,
   "id": "0e6ebc0e",
   "metadata": {},
   "outputs": [],
   "source": [
    "mydf = mydf.drop('year')"
   ]
  },
  {
   "cell_type": "markdown",
   "id": "54fecef8",
   "metadata": {},
   "source": [
    "## เลือกข้อมูลแบบ Select"
   ]
  },
  {
   "cell_type": "code",
   "execution_count": null,
   "id": "e7248e4f",
   "metadata": {},
   "outputs": [],
   "source": [
    "mydf.select(['province', 'update_date','new_case']).limit(10).toPandas()"
   ]
  },
  {
   "cell_type": "markdown",
   "id": "2fe42968",
   "metadata": {},
   "source": [
    "## Filter เลือกข้อมูล Where"
   ]
  },
  {
   "cell_type": "code",
   "execution_count": null,
   "id": "086b90cd",
   "metadata": {},
   "outputs": [],
   "source": [
    "mydf.filter(mydf.province == 'ปัตตานี').limit(10).toPandas()"
   ]
  },
  {
   "cell_type": "markdown",
   "id": "f9ee964c",
   "metadata": {},
   "source": [
    "## Group by"
   ]
  },
  {
   "cell_type": "code",
   "execution_count": null,
   "id": "879d20d2",
   "metadata": {},
   "outputs": [],
   "source": [
    "mydf.groupby('province').count().limit(10).toPandas()"
   ]
  },
  {
   "cell_type": "markdown",
   "id": "37691b91",
   "metadata": {},
   "source": [
    "## สร้าง View Table"
   ]
  },
  {
   "cell_type": "code",
   "execution_count": null,
   "id": "6bc99c06",
   "metadata": {},
   "outputs": [],
   "source": [
    "mydf.createOrReplaceTempView('covid_temp')\n",
    "spark.sql('SELECT * FROM covid_temp').limit(10).toPandas()"
   ]
  },
  {
   "cell_type": "markdown",
   "id": "ccc3a9ba",
   "metadata": {},
   "source": [
    "## เลือกข้อมูลแบบหลายเงื่อนไข"
   ]
  },
  {
   "cell_type": "code",
   "execution_count": null,
   "id": "a8b6fabf",
   "metadata": {},
   "outputs": [],
   "source": [
    "mydf.select(['province','update_date', 'new_case', 'total_case']) \\\n",
    "    .filter(mydf.province == 'ปัตตานี') \\\n",
    "    .limit(10) \\\n",
    "    .toPandas()"
   ]
  },
  {
   "cell_type": "markdown",
   "id": "243cfb14",
   "metadata": {},
   "source": [
    "## สร้าง Column ใม่และสร้างแบบมีเงือนไข"
   ]
  },
  {
   "cell_type": "code",
   "execution_count": null,
   "id": "b72e5657",
   "metadata": {},
   "outputs": [],
   "source": [
    "mydf =  mydf.withColumn(\"x4\", lit(None)).toPandas() #date_add(col('col'), 3) บวกวันที่"
   ]
  },
  {
   "cell_type": "markdown",
   "id": "a713fbc9",
   "metadata": {},
   "source": [
    "## แทนที่ค่าว่าง"
   ]
  },
  {
   "cell_type": "code",
   "execution_count": null,
   "id": "0c20f893",
   "metadata": {},
   "outputs": [],
   "source": [
    "mydf.na.fill('Missing Value', 'privince').show()"
   ]
  },
  {
   "attachments": {},
   "cell_type": "markdown",
   "id": "fae8fcaf",
   "metadata": {},
   "source": [
    "# เช็คว่ามี Table ยัง"
   ]
  },
  {
   "cell_type": "code",
   "execution_count": null,
   "id": "879f29d4",
   "metadata": {},
   "outputs": [],
   "source": [
    "if (spark.sql(\"show tables in pyspark\")\n",
    "         .filter(col(\"tableName\") == \"plants\")\n",
    "         .count() > 0):\n",
    "    print('found')   \n",
    "else:\n",
    "    print('not found')"
   ]
  }
 ],
 "metadata": {
  "kernelspec": {
   "display_name": "Python 3 (ipykernel)",
   "language": "python",
   "name": "python3"
  },
  "language_info": {
   "codemirror_mode": {
    "name": "ipython",
    "version": 3
   },
   "file_extension": ".py",
   "mimetype": "text/x-python",
   "name": "python",
   "nbconvert_exporter": "python",
   "pygments_lexer": "ipython3",
   "version": "3.9.13"
  }
 },
 "nbformat": 4,
 "nbformat_minor": 5
}
