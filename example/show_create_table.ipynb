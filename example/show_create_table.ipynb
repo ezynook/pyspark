{
 "cells": [
  {
   "cell_type": "code",
   "execution_count": null,
   "id": "19d18f24-cae4-448b-8c64-8e2e8c81df47",
   "metadata": {
    "tags": []
   },
   "outputs": [],
   "source": [
    "import pandas as pd\n",
    "import os\n",
    "import os.path\n",
    "import requests\n",
    "from datetime import datetime\n",
    "from trino.dbapi import connect\n",
    "from sqlalchemy import create_engine\n",
    "from sqlalchemy.schema import Table, MetaData\n",
    "from sqlalchemy.sql.expression import select, text"
   ]
  },
  {
   "cell_type": "code",
   "execution_count": null,
   "id": "cb625999-f7a5-408b-9a55-48fbd797dadc",
   "metadata": {
    "tags": []
   },
   "outputs": [],
   "source": [
    "engine = create_engine(\"trino://hive:@192.168.10.210:8090/hive/default\")\n",
    "connection = engine.connect()"
   ]
  },
  {
   "cell_type": "code",
   "execution_count": null,
   "id": "2fda26fe-00c2-4427-92b6-67de19f8975f",
   "metadata": {},
   "outputs": [],
   "source": [
    "#กำหนดชื่อไฟล์ที่ Export\n",
    "FILEPATH = \"export_schema/export_describe_table.xlsx\""
   ]
  },
  {
   "cell_type": "code",
   "execution_count": null,
   "id": "61d52e60-ac4d-486f-8d9f-d4097496a7d8",
   "metadata": {},
   "outputs": [],
   "source": [
    "def createEmptyExcel():\n",
    "    data = pd.DataFrame([[0]],index=[\"0\"],columns=[\"0\"])\n",
    "    data.to_excel(\"export_schema/export_describe_table.xlsx\", index=False, header=False)\n",
    "createEmptyExcel()"
   ]
  },
  {
   "cell_type": "code",
   "execution_count": null,
   "id": "a0f67a10-248e-4823-ac16-6392d7cd32ef",
   "metadata": {
    "tags": []
   },
   "outputs": [],
   "source": [
    "schema = ['etl_j1','etl_j4','etl_j5','etl_j6','raw_data_j1','raw_data_j3','raw_data_j4','raw_data_j5','raw_data_j6']"
   ]
  },
  {
   "cell_type": "code",
   "execution_count": null,
   "id": "708a1cd8-4050-411f-840f-0ad0d4af9435",
   "metadata": {
    "tags": []
   },
   "outputs": [],
   "source": [
    "sheet_name = \"\"\n",
    "createEmptyExcel() #Create Empty Excel to Append\n",
    "for sc in schema:\n",
    "    for i,r in pd.read_sql(f\"show tables in {sc}\", con=engine).itertuples():\n",
    "        df = pd.read_sql(f'describe {sc}.{r}',con=engine)\n",
    "        with pd.ExcelWriter(f'{FILEPATH}', engine=\"openpyxl\", mode=\"a\") as writer:\n",
    "            if len(r) >=30:\n",
    "                sheet_name = r[:30]\n",
    "            else:\n",
    "                sheet_name = r\n",
    "            try:\n",
    "                df.to_excel(writer, sheet_name=f\"{sheet_name}\", index=False)\n",
    "            except ValueError:\n",
    "                pass\n",
    "        print('Added:', sc,'.',r)"
   ]
  }
 ],
 "metadata": {
  "kernelspec": {
   "display_name": "Python 3 (ipykernel)",
   "language": "python",
   "name": "python3"
  },
  "language_info": {
   "codemirror_mode": {
    "name": "ipython",
    "version": 3
   },
   "file_extension": ".py",
   "mimetype": "text/x-python",
   "name": "python",
   "nbconvert_exporter": "python",
   "pygments_lexer": "ipython3",
   "version": "3.9.16"
  }
 },
 "nbformat": 4,
 "nbformat_minor": 5
}
