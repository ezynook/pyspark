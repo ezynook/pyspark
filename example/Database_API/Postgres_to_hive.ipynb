{
 "cells": [
  {
   "cell_type": "markdown",
   "id": "c44b4e93-44b9-4cb8-8ffc-1b2109e9213f",
   "metadata": {},
   "source": [
    "## ✅ Script Transfer Data PostgreSQL to HDFS"
   ]
  },
  {
   "cell_type": "code",
   "execution_count": null,
   "id": "2b98ce73-3907-42fd-9bc6-825f4fe6a422",
   "metadata": {
    "tags": []
   },
   "outputs": [],
   "source": [
    "import pyspark\n",
    "from pyspark.sql import SparkSession\n",
    "from pyspark.sql import Row\n",
    "import pandas as pd\n",
    "import os\n",
    "import psycopg2 as pg\n",
    "from datetime import datetime"
   ]
  },
  {
   "cell_type": "code",
   "execution_count": null,
   "id": "88ad0807-e5eb-4d16-a4a8-4abf9d6f5166",
   "metadata": {
    "tags": []
   },
   "outputs": [],
   "source": [
    "os.environ['HADOOP_CONF_DIR'] = '/etc/hadoop/conf'\n",
    "os.environ['JAVA_HOME'] = '/usr/local/jdk8u222-b10'\n",
    "os.environ['HADOOP_USER_NAME']='hive'\n",
    "os.environ['PYSPARK_PYTHON'] ='/HDFS01/anaconda3/envs/main/bin/python'\n",
    "\n",
    "conf = pyspark.SparkConf().setAll([\n",
    "     ('spark.driver.maxResultSize', '0'),\n",
    "     ('spark.driver.memory', '4g'),\n",
    "     ('spark.sql.repl.eagerEval.enabled','true'),\n",
    "     ('hive.strict.managed.tables','false'),\n",
    "     ('hive.metastore.uris', 'thrift://nn01.bigdata:9083'),\n",
    "     ('metastore.client.capability.check','false')\n",
    "    ])\n",
    "spark = SparkSession.builder \\\n",
    "        .master(\"local[*]\") \\\n",
    "        .appName(\"myApp\") \\\n",
    "        .config(conf=conf) \\\n",
    "        .enableHiveSupport() \\\n",
    "        .getOrCreate();"
   ]
  },
  {
   "cell_type": "code",
   "execution_count": null,
   "id": "d8280b40-463e-45aa-b550-4af590ee09b5",
   "metadata": {
    "tags": []
   },
   "outputs": [],
   "source": [
    "def getDate():\n",
    "    now = datetime.now()\n",
    "    today = now.strftime(\"%Y%m%d_%H%M%S\")\n",
    "    return today"
   ]
  },
  {
   "cell_type": "markdown",
   "id": "51265e0d-e6cd-45d9-8437-a39eded864ea",
   "metadata": {},
   "source": [
    "#### 🟢 Postgres Connector ```pip install psycopg2-binary```"
   ]
  },
  {
   "cell_type": "code",
   "execution_count": null,
   "id": "49757ca9-9813-4672-9a95-2aeddcbc2cd5",
   "metadata": {
    "tags": []
   },
   "outputs": [],
   "source": [
    "def pgCon():\n",
    "    pgconn = pg.connect(database=\"crawler\",\n",
    "                            host=\"192.168.10.22\",\n",
    "                            user=\"softnix\",\n",
    "                            password=\"softnixteam\",\n",
    "                            port=\"5433\")\n",
    "    return pgconn"
   ]
  },
  {
   "cell_type": "markdown",
   "id": "77403023-c0e7-49a8-aada-a222964ea9a3",
   "metadata": {},
   "source": [
    "#### 🟢 ดึงข้อมูลตารางทั้งหมด"
   ]
  },
  {
   "cell_type": "code",
   "execution_count": null,
   "id": "21d3e060-4daf-4956-8888-af4d69232787",
   "metadata": {
    "tags": []
   },
   "outputs": [],
   "source": [
    "sql = \"\"\"\n",
    "    SELECT schemaname, tablename\n",
    "    FROM pg_catalog.pg_tables\n",
    "    WHERE schemaname != 'pg_catalog' AND \n",
    "        schemaname != 'information_schema';\n",
    "\"\"\"\n",
    "df = pd.read_sql(sql, con=pgCon())\n",
    "df"
   ]
  },
  {
   "cell_type": "markdown",
   "id": "b659d21f-eb33-4072-b457-ee7a689b6ede",
   "metadata": {},
   "source": [
    "#### 🟢 Loop ทำการ insert ทุกๆ Table โดย PySpark"
   ]
  },
  {
   "cell_type": "code",
   "execution_count": null,
   "id": "50b2918f-5136-4f19-bc87-2593cef39b11",
   "metadata": {
    "tags": []
   },
   "outputs": [],
   "source": [
    "for i,v in df.iterrows():\n",
    "    try:\n",
    "        df2 = pd.read_sql(f\"select * from {v['tablename']}\", con=pgCon())\n",
    "        df2.to_csv(\"/tmp/export.csv\", index=False, header=True)\n",
    "        output=spark.read.csv(\"file:///tmp/export.csv\", inferSchema=True, header=True)\n",
    "        output.write \\\n",
    "          .mode(\"overwrite\") \\\n",
    "          .saveAsTable(f\"pyspark.{v['tablename']}\")\n",
    "        os.system(\"rm -f /tmp/export.csv\")\n",
    "        print(\"Success:\", v['tablename'])\n",
    "    except Exception as e:\n",
    "        print(\"Skiped because to Data in files\")\n",
    "        continue"
   ]
  },
  {
   "cell_type": "markdown",
   "id": "f7e548a3-42d9-4c45-bed7-a247997bde03",
   "metadata": {},
   "source": [
    "#### 🟢 Use OS validate to list files in HDFS"
   ]
  },
  {
   "cell_type": "code",
   "execution_count": null,
   "id": "bc2c4445-4bd4-40d4-9791-cd4d2c775149",
   "metadata": {
    "tags": []
   },
   "outputs": [],
   "source": [
    "os.system(\"sudo -u hdfs hdfs dfs -ls /user/hive/warehouse/pyspark.db/crawler_site\")"
   ]
  }
 ],
 "metadata": {
  "kernelspec": {
   "display_name": "Python 3 (ipykernel)",
   "language": "python",
   "name": "python3"
  },
  "language_info": {
   "codemirror_mode": {
    "name": "ipython",
    "version": 3
   },
   "file_extension": ".py",
   "mimetype": "text/x-python",
   "name": "python",
   "nbconvert_exporter": "python",
   "pygments_lexer": "ipython3",
   "version": "3.9.16"
  }
 },
 "nbformat": 4,
 "nbformat_minor": 5
}
