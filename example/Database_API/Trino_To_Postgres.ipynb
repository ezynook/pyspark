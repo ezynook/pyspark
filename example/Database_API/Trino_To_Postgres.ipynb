{
 "cells": [
  {
   "cell_type": "code",
   "execution_count": null,
   "id": "2b98ce73-3907-42fd-9bc6-825f4fe6a422",
   "metadata": {
    "tags": []
   },
   "outputs": [],
   "source": [
    "import pyspark\n",
    "from pyspark.sql import SparkSession\n",
    "from pyspark.sql import Row\n",
    "import pandas as pd\n",
    "from trino.dbapi import connect\n",
    "import os"
   ]
  },
  {
   "cell_type": "code",
   "execution_count": null,
   "id": "18624c71-bf65-4d62-8521-b0f8a40d3499",
   "metadata": {
    "tags": []
   },
   "outputs": [],
   "source": [
    "spark = SparkSession \\\n",
    "    .builder.config(\"spark.jars\", \"jars/postgresql-42.5.4.jar\") \\\n",
    "    .master(\"local\") \\\n",
    "    .appName(\"PySpark_Postgres_test\") \\\n",
    "    .getOrCreate()"
   ]
  },
  {
   "cell_type": "code",
   "execution_count": null,
   "id": "dec201ef-0d3e-4501-af08-4595f3663809",
   "metadata": {
    "tags": []
   },
   "outputs": [],
   "source": [
    "filename = 'etl_j1'"
   ]
  },
  {
   "cell_type": "code",
   "execution_count": null,
   "id": "600206e1-7853-44b1-aefb-69439a7df0f0",
   "metadata": {
    "tags": []
   },
   "outputs": [],
   "source": [
    "conn = connect(\n",
    "    host=\"192.168.10.210\",\n",
    "    port=8090,\n",
    "    user=\"hive\",\n",
    "    catalog=\"hive\",\n",
    "    schema=f\"{filename}\",\n",
    ")"
   ]
  },
  {
   "cell_type": "code",
   "execution_count": null,
   "id": "fcbb99ee-2293-40bf-9f7a-ae102835faa2",
   "metadata": {
    "tags": []
   },
   "outputs": [],
   "source": [
    "tables = pd.read_sql(f\"show tables in {filename}\", con=conn)\n",
    "for i,row in tables.iterrows():\n",
    "    x = row['Table']\n",
    "    data = pd.read_sql(f\"select * from {filename}.{x}\", con=conn)\n",
    "    data.to_csv(f\"raw/{x}\", index=False)\n",
    "    data = spark.read.csv(f\"file:///HDFS01/airflow/notebooks/Pasit/Database_Connect_Pyspark/raw/{x}\",\n",
    "                            header=True, inferSchema=True)\n",
    "    data.write \\\n",
    "        .format(\"jdbc\") \\\n",
    "        .mode(\"overwrite\") \\\n",
    "        .option(\"url\", \"jdbc:postgresql://192.168.10.22:5432/postgres\") \\\n",
    "        .option(\"driver\", \"org.postgresql.Driver\").option(\"dbtable\", f\"postgres.{filename}.{x}\") \\\n",
    "        .option(\"user\", \"postgres\").option(\"password\", \"postgres\").save()\n",
    "    os.system(f\"rm -f /HDFS01/airflow/notebooks/Pasit/Database_Connect_Pyspark/raw/{x}\")\n",
    "    print(\"Inserted: \", i,\"Value: \", row['Table'])"
   ]
  },
  {
   "cell_type": "code",
   "execution_count": null,
   "id": "d900dcc2-a1ad-4558-b6ec-f30f117075d1",
   "metadata": {},
   "outputs": [],
   "source": []
  }
 ],
 "metadata": {
  "kernelspec": {
   "display_name": "Python 3 (ipykernel)",
   "language": "python",
   "name": "python3"
  },
  "language_info": {
   "codemirror_mode": {
    "name": "ipython",
    "version": 3
   },
   "file_extension": ".py",
   "mimetype": "text/x-python",
   "name": "python",
   "nbconvert_exporter": "python",
   "pygments_lexer": "ipython3",
   "version": "3.9.16"
  }
 },
 "nbformat": 4,
 "nbformat_minor": 5
}
