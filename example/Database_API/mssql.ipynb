{
 "cells": [
  {
   "cell_type": "code",
   "execution_count": 1,
   "id": "b892e109-41eb-49ec-8e72-708594712487",
   "metadata": {
    "tags": []
   },
   "outputs": [],
   "source": [
    "from pyspark.sql import SparkSession\n",
    "import pandas as pd"
   ]
  },
  {
   "cell_type": "code",
   "execution_count": 2,
   "id": "260d6ca1-d6b5-41e1-85ee-3b7a7f56d494",
   "metadata": {
    "tags": []
   },
   "outputs": [
    {
     "name": "stdout",
     "output_type": "stream",
     "text": [
      "23/02/20 02:26:23 WARN NativeCodeLoader: Unable to load native-hadoop library for your platform... using builtin-java classes where applicable\n"
     ]
    },
    {
     "name": "stderr",
     "output_type": "stream",
     "text": [
      "Setting default log level to \"WARN\".\n",
      "To adjust logging level use sc.setLogLevel(newLevel). For SparkR, use setLogLevel(newLevel).\n"
     ]
    },
    {
     "name": "stdout",
     "output_type": "stream",
     "text": [
      "23/02/20 02:26:26 WARN Utils: Service 'SparkUI' could not bind on port 4040. Attempting port 4041.\n"
     ]
    }
   ],
   "source": [
    "spark = SparkSession\\\n",
    "    .builder\\\n",
    "    .master('local[*]')\\\n",
    "    .config(\"spark.jars\", \"jars/spark-mssql-connector_2.12-1.2.0.jar\") \\\n",
    "    .config(\"spark.delta.catalog.update.enabled\", \"false\") \\\n",
    "    .appName('SQLServer')\\\n",
    "    .getOrCreate()"
   ]
  },
  {
   "cell_type": "code",
   "execution_count": null,
   "id": "46298556-4917-483b-bf32-38120e888792",
   "metadata": {
    "tags": []
   },
   "outputs": [],
   "source": [
    "df = spark.createDataFrame(pd.read_json(\"http://engineer.da.co.th/api_json.php?all\"))"
   ]
  },
  {
   "cell_type": "code",
   "execution_count": null,
   "id": "f2e830e7-c61a-4d43-a7d5-e27c9df11b77",
   "metadata": {
    "tags": []
   },
   "outputs": [],
   "source": [
    "df.write \\\n",
    ".format(\"jdbc\") \\\n",
    ".mode(\"overwrite\") \\\n",
    ".option(\"url\", \"jdbc:sqlserver://192.168.10.22:1433;DatabaseName=test;encrypt=true;trustServerCertificate=true;\") \\\n",
    ".option(\"dbtable\", \"engineer\") \\\n",
    ".option(\"user\", \"sa\") \\\n",
    ".option(\"password\", \"softnixteam\") \\\n",
    ".save()"
   ]
  },
  {
   "cell_type": "code",
   "execution_count": 3,
   "id": "a46ae7f6-1c4e-4194-86da-e6e9e26b4d23",
   "metadata": {
    "tags": []
   },
   "outputs": [
    {
     "name": "stdout",
     "output_type": "stream",
     "text": [
      "23/02/20 02:26:36 WARN package: Truncated the string representation of a plan since it was too large. This behavior can be adjusted by setting 'spark.sql.debug.maxToStringFields'.\n"
     ]
    },
    {
     "name": "stderr",
     "output_type": "stream",
     "text": [
      "                                                                                \r"
     ]
    },
    {
     "name": "stdout",
     "output_type": "stream",
     "text": [
      "+--------------------+--------------------+--------------------+--------------------+--------------------+---------+-------+----------+--------+--------+------+------------+-------+---------------+--------------------+--------------------+------+---------+---------------+----------+----------------+--------------------+----------+---------------+-----------+-----------+\n",
      "|             task_id|              dag_id|              run_id|          start_date|            end_date| duration|  state|try_number|hostname|unixname|job_id|        pool|  queue|priority_weight|            operator|         queued_dttm|   pid|max_tries|executor_config|pool_slots|queued_by_job_id|external_executor_id|trigger_id|trigger_timeout|next_method|next_kwargs|\n",
      "+--------------------+--------------------+--------------------+--------------------+--------------------+---------+-------+----------+--------+--------+------+------------+-------+---------------+--------------------+--------------------+------+---------+---------------+----------+----------------+--------------------+----------+---------------+-----------+-----------+\n",
      "|          LoadtoHive|telemetering_stat...|scheduled__2022-0...|30/8/2022 10:15:4...|30/8/2022 10:15:5...| 2.461828|success|         1|Airflow1|    root|   781|default_pool|default|              5|        BashOperator|30/8/2022 10:15:4...| 71441|        1|       gAV9lC4=|         1|               2|                    |          |               |           |       null|\n",
      "|           RemoveTmp|early_warning_status|scheduled__2022-0...|20/9/2022 09:33:2...|20/9/2022 09:33:2...|      0.0|skipped|         0|        |    root|  null|default_pool|default|              1|        BashOperator|                    |  null|        1|       gAV9lC4=|         1|            null|                    |          |               |           |       null|\n",
      "|  backup_data_schema|    hive_data_backup|scheduled__2022-0...|30/8/2022 10:00:0...|30/8/2022 10:16:0...| 967.5181|success|         1|Airflow1|    root|   720|default_pool|default|              2|        BashOperator|30/8/2022 10:00:0...|240326|        1|       gAV9lC4=|         1|               2|                    |          |               |           |       null|\n",
      "|    pythonChagetoCSV|early_warning_status|scheduled__2022-0...|30/8/2022 10:18:1...|30/8/2022 10:18:1...| 2.359595|success|         1|Airflow1|    root|   791|default_pool|default|              4|      PythonOperator|30/8/2022 10:18:1...| 83335|        1|       gAV9lC4=|         1|               2|                    |          |               |           |       null|\n",
      "|        log_datetime|    hive_data_backup|scheduled__2022-0...|30/8/2022 10:16:0...|30/8/2022 10:16:1...| 0.173083|success|         1|Airflow1|    root|   784|default_pool|default|              1|      PythonOperator|30/8/2022 10:16:0...| 73119|        1|       gAV9lC4=|         1|               2|                    |          |               |           |       null|\n",
      "|           RemoveTmp|early_warning_status|scheduled__2022-0...|30/8/2022 10:18:3...|30/8/2022 10:18:3...| 0.229246|success|         1|Airflow1|    root|   794|default_pool|default|              1|        BashOperator|30/8/2022 10:18:3...| 85618|        1|       gAV9lC4=|         1|               2|                    |          |               |           |       null|\n",
      "|          Show_Table|telemetering_stat...|scheduled__2022-0...|30/8/2022 10:30:0...|30/8/2022 10:30:1...| 8.763151|success|         1|Airflow1|    root|   800|default_pool|default|              9|BranchPythonOperator|30/8/2022 10:30:0...|135107|        1|       gAV9lC4=|         1|               2|                    |          |               |           |       null|\n",
      "|            WriteTmp|           noise_api|scheduled__2022-0...|30/8/2022 10:30:0...|30/8/2022 10:30:0...| 0.575279|success|         1|Airflow1|    root|   798|default_pool|default|              5|      PythonOperator|30/8/2022 10:30:0...|135035|        1|       gAV9lC4=|         1|               2|                    |          |               |           |       null|\n",
      "|Create_Table_view...|view_air_quality_...|scheduled__2022-0...|30/8/2022 10:30:1...|30/8/2022 10:30:1...|     null|skipped|         0|        |    root|  null|default_pool|default|              1|        BashOperator|                    |  null|        1|       gAV9lC4=|         1|            null|                    |          |               |           |       null|\n",
      "|          Show_Table|view_air_quality_...|scheduled__2022-0...|30/8/2022 10:30:0...|30/8/2022 10:30:1...| 8.440853|success|         1|Airflow1|    root|   797|default_pool|default|              5|BranchPythonOperator|30/8/2022 10:30:0...|135014|        1|       gAV9lC4=|         1|               2|                    |          |               |           |       null|\n",
      "|Create_Table_earl...|  early_warning_vill|scheduled__2022-0...|30/8/2022 10:30:1...|30/8/2022 10:30:1...|     null|skipped|         0|        |    root|  null|default_pool|default|              1|        BashOperator|                    |  null|        1|       gAV9lC4=|         1|            null|                    |          |               |           |       null|\n",
      "|          Show_Table|  early_warning_vill|scheduled__2022-0...|30/8/2022 10:30:0...|30/8/2022 10:30:1...| 8.699069|success|         1|Airflow1|    root|   796|default_pool|default|              8|BranchPythonOperator|30/8/2022 10:30:0...|135025|        1|       gAV9lC4=|         1|               2|                    |          |               |           |       null|\n",
      "|          Show_Table|           noise_api|scheduled__2022-0...|30/8/2022 10:30:1...|30/8/2022 10:30:2...| 9.874329|success|         1|Airflow1|    root|   802|default_pool|default|              4|BranchPythonOperator|30/8/2022 10:30:0...|136060|        1|       gAV9lC4=|         1|               2|                    |          |               |           |       null|\n",
      "|Create_Table_nois...|           noise_api|scheduled__2022-0...|30/8/2022 10:30:2...|30/8/2022 10:30:2...|     null|skipped|         0|        |    root|  null|default_pool|default|              1|        BashOperator|                    |  null|        1|       gAV9lC4=|         1|            null|                    |          |               |           |       null|\n",
      "|    pythonChagetoCSV|  early_warning_vill|scheduled__2022-0...|30/8/2022 10:30:2...|30/8/2022 10:30:2...| 1.040078|success|         1|Airflow1|    root|   804|default_pool|default|              6|      PythonOperator|30/8/2022 10:30:1...|136890|        1|       gAV9lC4=|         1|               2|                    |          |               |           |       null|\n",
      "|    pythonChagetoCSV|telemetering_stat...|scheduled__2022-0...|30/8/2022 10:30:2...|30/8/2022 10:30:3...| 4.889197|success|         1|Airflow1|    root|   807|default_pool|default|              7|      PythonOperator|30/8/2022 10:30:1...|137231|        1|       gAV9lC4=|         1|               2|                    |          |               |           |       null|\n",
      "|    pythonChagetoCSV|view_air_quality_...|scheduled__2022-0...|30/8/2022 10:30:2...|30/8/2022 10:30:3...|10.131862|success|         1|Airflow1|    root|   803|default_pool|default|              3|      PythonOperator|30/8/2022 10:30:1...|136860|        1|       gAV9lC4=|         1|               2|                    |          |               |           |       null|\n",
      "|          LoadtoHive|           noise_api|scheduled__2022-0...|30/8/2022 10:30:3...|30/8/2022 10:30:4...| 4.169179|success|         1|Airflow1|    root|   808|default_pool|default|              2|        BashOperator|30/8/2022 10:30:2...|138018|        1|       gAV9lC4=|         1|               2|                    |          |               |           |       null|\n",
      "|          LoadtoHive|  early_warning_vill|scheduled__2022-0...|30/8/2022 10:30:3...|30/8/2022 10:30:4...| 4.055464|success|         1|Airflow1|    root|   809|default_pool|default|              5|        BashOperator|30/8/2022 10:30:2...|138101|        1|       gAV9lC4=|         1|               2|                    |          |               |           |       null|\n",
      "|        load_to_noti|telemetering_stat...|scheduled__2022-0...|30/8/2022 10:30:4...|30/8/2022 10:30:4...| 4.613497|success|         1|Airflow1|    root|   811|default_pool|default|              6|        BashOperator|30/8/2022 10:30:3...|139329|        1|       gAV9lC4=|         1|               2|                    |          |               |           |       null|\n",
      "+--------------------+--------------------+--------------------+--------------------+--------------------+---------+-------+----------+--------+--------+------+------------+-------+---------------+--------------------+--------------------+------+---------+---------------+----------+----------------+--------------------+----------+---------------+-----------+-----------+\n",
      "only showing top 20 rows\n",
      "\n"
     ]
    }
   ],
   "source": [
    "# Read from SQL Table\n",
    "df = spark.read \\\n",
    "  .format(\"com.microsoft.sqlserver.jdbc.spark\") \\\n",
    "  .option(\"url\", \"jdbc:sqlserver://192.168.10.22:1433;DatabaseName=test;encrypt=true;trustServerCertificate=true;\") \\\n",
    "  .option(\"dbtable\", \"dbo.data\") \\\n",
    "  .option(\"user\", \"sa\") \\\n",
    "  .option(\"password\", \"softnixteam\") \\\n",
    "  .load()\n",
    "\n",
    "df.show()"
   ]
  },
  {
   "cell_type": "code",
   "execution_count": null,
   "id": "d56987bd-520c-435e-82f3-60f5e51521ed",
   "metadata": {},
   "outputs": [],
   "source": []
  }
 ],
 "metadata": {
  "kernelspec": {
   "display_name": "Python 3 (ipykernel)",
   "language": "python",
   "name": "python3"
  },
  "language_info": {
   "codemirror_mode": {
    "name": "ipython",
    "version": 3
   },
   "file_extension": ".py",
   "mimetype": "text/x-python",
   "name": "python",
   "nbconvert_exporter": "python",
   "pygments_lexer": "ipython3",
   "version": "3.9.16"
  }
 },
 "nbformat": 4,
 "nbformat_minor": 5
}
