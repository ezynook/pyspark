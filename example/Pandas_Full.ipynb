{
 "cells": [
  {
   "cell_type": "code",
   "execution_count": null,
   "id": "1211d710-0f82-4e36-a500-2d6684f3bb79",
   "metadata": {
    "tags": []
   },
   "outputs": [],
   "source": [
    "import pandas as pd\n",
    "from datetime import datetime\n",
    "import datetime"
   ]
  },
  {
   "cell_type": "code",
   "execution_count": null,
   "id": "074f16d7-0031-478f-890c-fe46a42a6224",
   "metadata": {
    "tags": []
   },
   "outputs": [],
   "source": [
    "df = pd.read_csv('Connection.csv',encoding = \"ISO-8859-1\")"
   ]
  },
  {
   "cell_type": "markdown",
   "id": "17c85553-0f92-487f-a0c8-fe187b017d1e",
   "metadata": {},
   "source": [
    "### วิธีเช็คจำนวนแถว และจำนวนคอลัมน์"
   ]
  },
  {
   "cell_type": "code",
   "execution_count": null,
   "id": "9937c27e-352e-4610-855b-0c7d8649c076",
   "metadata": {
    "tags": []
   },
   "outputs": [],
   "source": [
    "df.shape"
   ]
  },
  {
   "cell_type": "markdown",
   "id": "9c218cd5-7e05-44dc-b855-1eb13517350e",
   "metadata": {},
   "source": [
    "### วิธีแปลงประเภทข้อมูล (Data Type) ใน Data Frame"
   ]
  },
  {
   "cell_type": "code",
   "execution_count": null,
   "id": "0eb0099b-28dc-42b2-8e08-301b6e67f87e",
   "metadata": {},
   "outputs": [],
   "source": [
    "df['hour'] = pd.to_numeric(df['hour']) # แปลงเป็น Numeric\n",
    "df['hour'] = df['hour'].astype('int') # อีกวิธีในการแปลงค่า สามารถใช้วิธีนี้แปลงเป็น float ได้"
   ]
  },
  {
   "cell_type": "markdown",
   "id": "297ffb02-69aa-46a5-99b5-631fb84622d8",
   "metadata": {},
   "source": [
    "### วิธีเช็ค Summary (count, min, max, mean) แบบแยกกลุ่ม"
   ]
  },
  {
   "cell_type": "code",
   "execution_count": null,
   "id": "1ebf5222-0ef4-4b46-bfb4-7d447d4bc6c6",
   "metadata": {
    "tags": []
   },
   "outputs": [],
   "source": [
    "test = df.groupby(['NAME'])\n",
    "test.describe()"
   ]
  },
  {
   "cell_type": "markdown",
   "id": "3b53a68e-0feb-4e63-b54c-fcdb6cb8fe0f",
   "metadata": {},
   "source": [
    "### วิธีเลือกหลายคอลัมน์จาก DataFrame"
   ]
  },
  {
   "cell_type": "code",
   "execution_count": null,
   "id": "a41aa94e-e310-4a96-9677-8e74ccd2de3b",
   "metadata": {},
   "outputs": [],
   "source": [
    "df[['C1','C2']]"
   ]
  },
  {
   "cell_type": "markdown",
   "id": "82e61972-34ef-4796-bf52-43c6c64f7e6f",
   "metadata": {},
   "source": [
    "### วิธีเลือกแถวตามเงื่อนไขที่ต้องการ"
   ]
  },
  {
   "cell_type": "code",
   "execution_count": null,
   "id": "a6abf630-042d-46a0-bb3d-163bc4247016",
   "metadata": {
    "tags": []
   },
   "outputs": [],
   "source": [
    "df[df['C1']>50] # เงื่อนไขแบบง่าย ๆ\n",
    "df = df.loc[df.C1.isin([1,2,3])] # เงื่อนไขแบบซับซ้อน\n",
    "#ถ้ามีหลายเงื่อนไขเราสามารถใช้ & (and) หรือ | (or) ได้\n",
    "df[(df['C1']>50) & ((df['C2']<25) | (df['C2']>75))]\n",
    "#หรือใช้ Query เป็นเงื่อนไขได้ด้วย มีประโยชน์มากเวลาเรามีเงื่อนไขแปลก ๆ ไม่ต้องเขียนลูปขึ้นมาเองเลยครับ\n",
    "df2 = df.query('C1 > C2')"
   ]
  },
  {
   "cell_type": "markdown",
   "id": "fabeb65e-fb79-48e8-bbed-e2f37f294c5a",
   "metadata": {},
   "source": [
    "### วิธีเพิ่มคอลัมน์ใหม่"
   ]
  },
  {
   "cell_type": "code",
   "execution_count": null,
   "id": "52dc370e-cebd-43c7-ad61-9f94ab8897c1",
   "metadata": {},
   "outputs": [],
   "source": [
    "df['new'] = dataframe['old'] + 10 # use old values\n",
    "df['new2'] = 5 # apply the same value"
   ]
  },
  {
   "cell_type": "markdown",
   "id": "0e329fb9-07f7-4741-a412-739fe7a9a595",
   "metadata": {},
   "source": [
    "### การต่อ DataFrame (รวมข้อมูล DataFrame เช่น เอา CSV มาต่อกัน)"
   ]
  },
  {
   "cell_type": "code",
   "execution_count": null,
   "id": "c184a98c-3e20-4603-80b2-367481c0a2fb",
   "metadata": {},
   "outputs": [],
   "source": [
    "pd.concat([df1,df2], axis=1) # รวมกัน 2 คอลัมน์ (axis = 0 คือแถว, axis = 1 คือคอลัมน์)\n",
    "pd.concat([df1,df2,df3)] # รวมมากกว่า 2 คอลัมน์ก็ได้\n",
    "pd.concat(…, ignore_index=True) # รวมเสร็จแล้ว reset index ให้ด้วย ควรใช้ ไม่งั้นจะเจอ row ID ซ้ำกันตอนรวมร่าง\n",
    "pd.concat(…, join='inner') # รวมร่างเฉพาะคอลัมน์ที่ df1 กับ df2 มีทั้งคู่\n",
    "pd.concat(…, keys=['source1', 'source2']) # เพิ่มคอลัมน์เข้าไปด้วยเพื่อระบุว่า Row แต่ละอันมาจาก Data Frame อันไหน\n",
    "pd.concat(…, join_axes=[df2.index]) # เลือกรวมร่างเฉพาะ row index ที่เรากำหนดได้"
   ]
  },
  {
   "cell_type": "markdown",
   "id": "27d474ea-5d93-460e-8d38-bef3bb198b95",
   "metadata": {},
   "source": [
    "### การต่อ DataFrame แบบ Join"
   ]
  },
  {
   "cell_type": "code",
   "execution_count": null,
   "id": "531788ce-0614-4f0a-b37c-4f72a2dacab4",
   "metadata": {},
   "outputs": [],
   "source": [
    "pd.merge(df1, df2, left_on=\"col1\", right_on=\"col2\", how=\"inner\")"
   ]
  },
  {
   "cell_type": "markdown",
   "id": "8a222e71-6b7b-492e-b114-0c3967d2bd7e",
   "metadata": {},
   "source": [
    "### การหาค่า Mean, Sum, Max (Aggregate) แบบทั้ง DataFrame"
   ]
  },
  {
   "cell_type": "code",
   "execution_count": null,
   "id": "0aeeea26-e2c7-467e-b6b8-2791951b4cd6",
   "metadata": {},
   "outputs": [],
   "source": [
    "newdf = df.agg(['sum', 'max','mean'])"
   ]
  },
  {
   "cell_type": "markdown",
   "id": "ae142eaf-13bb-401d-8de5-b532cb72391a",
   "metadata": {},
   "source": [
    "### การรัน Function เดียวกันทุกแถว หรือทุกคอลัมน์"
   ]
  },
  {
   "cell_type": "code",
   "execution_count": null,
   "id": "228c619d-2945-46cb-a155-0cec5e37cd00",
   "metadata": {},
   "outputs": [],
   "source": [
    "# sum for columns\n",
    "df2 = df[['C1','C2']].apply(sum,axis=0)\n",
    "# sum for rows\n",
    "df2 = df[['C1','C2']].apply(sum,axis=1)"
   ]
  },
  {
   "cell_type": "markdown",
   "id": "a31434db-66fb-463c-977f-b47f58eaa2e6",
   "metadata": {},
   "source": [
    "### รันคำสั่งที่เขียนเองกับทุกแถวใน 1 คอลัมน์"
   ]
  },
  {
   "cell_type": "code",
   "execution_count": null,
   "id": "5888d913-ffe7-4750-937b-38145af47be5",
   "metadata": {},
   "outputs": [],
   "source": [
    "dataframe['C1'] = dataframe['C1'].map(lambda x: x-100)\n",
    "#รันคำสั่งที่เขียนเองกับทุกค่า\n",
    "function_result = dataframe.applymap(lambda x: x*10)"
   ]
  },
  {
   "cell_type": "markdown",
   "id": "0993c52c-56a3-4847-bde5-02474ea3c62f",
   "metadata": {},
   "source": [
    "### คำนวณ Cross Tabulation\n",
    "Cross Tabulation มีประโยชน์มากเวลาเราอยากรู้ว่ามี Data ที่ตรงกับกรุ๊ป A ของคอลัมน์ 1 และกรุ๊ป B ของคอลัมน์ 2 เท่าไหร่ เช่น มีนักเรียนผู้ชาย (คอลัมน์ gender) กี่คนในมัธยมปลาย (คอลัมน์ education) แบบนี้เป็นต้น\n",
    "\n",
    "หรือถ้าใครใช้ PivotTable ใน Excel มาก่อน ก็เหมือนกันเลยครับ"
   ]
  },
  {
   "cell_type": "code",
   "execution_count": null,
   "id": "53b68fc3-8513-47d2-be8c-9e61ef140f1a",
   "metadata": {},
   "outputs": [],
   "source": [
    "aggregate = pandas.crosstab(dataframe.C1, dataframe.C2)"
   ]
  },
  {
   "cell_type": "markdown",
   "id": "1ec27e34-b7a4-4aa6-afa1-1fc614f12159",
   "metadata": {},
   "source": [
    "### วิธีเช็คว่ามีแถวไหนข้อมูลซ้ำมั้ย (Duplicated)"
   ]
  },
  {
   "cell_type": "code",
   "execution_count": null,
   "id": "349d1eaa-6248-41fc-b370-3bf49eef1edd",
   "metadata": {
    "tags": []
   },
   "outputs": [],
   "source": [
    "dataframe.duplicated() # หาอันที่เหมือนกันทุกคอลัมน์\n",
    "dataframe.duplicated('C1') # หาอันที่ซ้ำกันเฉพาะคอลัมน์ C1\n",
    "dataframe.duplicated(['C1', 'C2']) # หาอันที่ซ้ำกันเฉพาะคอลัมน์ C1 และ C2"
   ]
  },
  {
   "cell_type": "markdown",
   "id": "399c1a62-d511-44b2-a4a5-46aafece34e1",
   "metadata": {},
   "source": [
    "### วิธีการลบ Duplicate\n",
    "เอาไว้ใช้ตอนเราเจอว่าทุกคอลัมน์ซ้ำกันหมดเลย ซึ่งเป็นเคสที่บอกว่าข้อมูลน่าจะซ้ำ ลบออกได้ (ขึ้นอยู่กับข้อมูลด้วยนะครับ บางข้อมูลอาจจะไม่ได้แปลว่าซ้ำแล้วลบได้):"
   ]
  },
  {
   "cell_type": "code",
   "execution_count": null,
   "id": "fad355d2-830c-420c-ac07-bf87f6daa0e6",
   "metadata": {},
   "outputs": [],
   "source": [
    "# Remove the duplicates\n",
    "df.drop_duplicates(['A', 'B', 'C'], inplace=True)\n",
    "\n",
    "# Reset dataframe index after drop_duplicates.\n",
    "df.reset_index(drop=True, inplace=True)\n",
    "\n",
    "len(df)"
   ]
  },
  {
   "cell_type": "markdown",
   "id": "514ce388-cc19-4c83-b83a-da92c1df53d3",
   "metadata": {},
   "source": [
    "### วิธีการลบแถว และลบคอลัมน์"
   ]
  },
  {
   "cell_type": "code",
   "execution_count": null,
   "id": "9750b31a-853a-4fc0-80bc-749f1a0ba549",
   "metadata": {},
   "outputs": [],
   "source": [
    "dataframe = dataframe.drop('C1', axis=1)\n",
    "df.drop(['C1'], axis=1, inplace=True) # แบบนี้ก็ได้\n",
    "df.drop(['C1', 'C2', 'C3'], 1, inplace=True) # ลบทีละหลายคอลัมน์ก็ได้\n",
    "dataframe.reset_index(drop=True) # Reset index"
   ]
  },
  {
   "cell_type": "markdown",
   "id": "d7054e22-0e75-4793-b795-4a428320764e",
   "metadata": {},
   "source": [
    "### วิธีการลบแถวที่มี Missing Value\n",
    "ข้อควรระวัง: การที่อยู่ ๆ เราลบแถวที่มี Missing Value ทิ้งไปเลยอาจจะไม่ใช่วิธีที่ดีที่สุดในการทำ Data Analysis เสมอไปนะครับ บางเคสการ Impute (คำนวณหาค่าไปใส่) จะดีกว่า"
   ]
  },
  {
   "cell_type": "code",
   "execution_count": null,
   "id": "347934c8-6412-4424-971f-4f07ad250f34",
   "metadata": {},
   "outputs": [],
   "source": [
    "dataframe2 = dataframe.dropna(axis=0)"
   ]
  },
  {
   "cell_type": "markdown",
   "id": "79b3dd62-659b-4f8b-99bd-856f2532a01f",
   "metadata": {},
   "source": [
    "### การลูปข้อมูลแต่ละคอลัมน์ และแต่ละแถว\n",
    "การลูปมีประโยชน์มากถ้าเราต้องการเขียนฟังก์ชั่นแปลก ๆ ใช้เองที่ Pandas ไม่รองรับ (หรืออาจจะรองรับแต่เราหาไม่เจอ เขียนเองง่ายกว่า) สามารถลูปได้ทั้งแต่ละคอลัมน์ และแต่ละแถว"
   ]
  },
  {
   "cell_type": "code",
   "execution_count": null,
   "id": "05752ad8-9c69-437b-85ad-59ff45885782",
   "metadata": {},
   "outputs": [],
   "source": [
    "for col_idx,data in dataframe.iteritems():\n",
    "    print (\"column:\",col_idx)\n",
    "    print (\"column data:\")\n",
    "    print (data,\"\\n\")"
   ]
  },
  {
   "cell_type": "markdown",
   "id": "19d79a18-9f82-4135-9eee-29d760bb5321",
   "metadata": {},
   "source": [
    "การลูปข้อมูลแต่ละแถว"
   ]
  },
  {
   "cell_type": "code",
   "execution_count": null,
   "id": "6f6efde4-6ca6-4577-a0aa-41db92a17f6a",
   "metadata": {},
   "outputs": [],
   "source": [
    "for col_idx,data in dataframe.iterrows():\n",
    "    print (\"row:\",col_idx)\n",
    "    print (\"row data:\")\n",
    "    print (data,\"\\n\")"
   ]
  },
  {
   "cell_type": "markdown",
   "id": "830d98c2-46fa-437e-ae3c-6aafeeb0f80e",
   "metadata": {},
   "source": [
    "### วิธีการเปลี่ยนชื่อคอลัมน์ (Rename)"
   ]
  },
  {
   "cell_type": "code",
   "execution_count": null,
   "id": "f45211be-4ae2-402e-bcc8-fa484e21960b",
   "metadata": {},
   "outputs": [],
   "source": [
    "dataframe.rename(columns={'old':'new'},inplace=True)"
   ]
  },
  {
   "cell_type": "markdown",
   "id": "dd1730ad-3265-4c82-b89c-c37d3379b607",
   "metadata": {},
   "source": [
    "### วิธีการใส่คำนำหน้าคอลัมน์ (Prefix)\n",
    "อันนี้มีประโยชน์มากตอนเรามีข้อมูลหลาย ๆ ชุด และต้องการ Merge โดยอยากให้ชื่อคอลัมน์ไม่ซ้ำกัน"
   ]
  },
  {
   "cell_type": "code",
   "execution_count": null,
   "id": "88a99986-7232-4f43-b017-1de643de781c",
   "metadata": {
    "tags": []
   },
   "outputs": [],
   "source": [
    "df2 = df.add_prefix('data_')"
   ]
  },
  {
   "cell_type": "markdown",
   "id": "555a2c0d-f716-4822-9857-753510918793",
   "metadata": {},
   "source": [
    "### วิธีการแทนค่าใน DataFrame\n",
    "เหมาะมากเวลาต้องการแก้ Typo Error เช่น เราอยากได้ค่า Bangkok แต่เรารู้ว่ามีคนเขียนเป็น BKK อะไรแบบนี้ (รันคำสั่ง .unique เพื่อดูก่อน)\n",
    "\n",
    "เราสามารถ Replace ทั้ง DataFrame ได้เลยแบบนี้"
   ]
  },
  {
   "cell_type": "code",
   "execution_count": null,
   "id": "08f195ed-ac5e-4b1a-aaae-359971f7d820",
   "metadata": {
    "tags": []
   },
   "outputs": [],
   "source": [
    "df['NAME'].replace({\n",
    "        'Mobile Data':'Cellular',\n",
    "        'Network Operator':'Operator'\n",
    "    }, inplace=True)"
   ]
  },
  {
   "cell_type": "markdown",
   "id": "1c7ca136-a927-4b7e-83e0-98d0761feb4c",
   "metadata": {},
   "source": [
    "### วิธีการแทนที่ Unixtime ด้วย Datetime"
   ]
  },
  {
   "cell_type": "code",
   "execution_count": null,
   "id": "0806262e-ff0d-4e2d-a33b-600170286835",
   "metadata": {},
   "outputs": [],
   "source": [
    "#หากเป็น Type Object ต้อง Replace เอาค่า comma ออกก่อน\n",
    "df['TIME'] = df[\"TIME\"].str.replace(',','')\n",
    "#แปลงจาก Unix เป็น DT\n",
    "df['DATETIME'] = pd.to_datetime(df['TIME'], unit='s')\n",
    "#ลบ Column Unix เดิมออก\n",
    "df = df.drop(columns='TIME')"
   ]
  }
 ],
 "metadata": {
  "kernelspec": {
   "display_name": "Python 3 (ipykernel)",
   "language": "python",
   "name": "python3"
  },
  "language_info": {
   "codemirror_mode": {
    "name": "ipython",
    "version": 3
   },
   "file_extension": ".py",
   "mimetype": "text/x-python",
   "name": "python",
   "nbconvert_exporter": "python",
   "pygments_lexer": "ipython3",
   "version": "3.9.16"
  }
 },
 "nbformat": 4,
 "nbformat_minor": 5
}
