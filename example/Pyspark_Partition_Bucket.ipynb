{
 "cells": [
  {
   "cell_type": "code",
   "execution_count": null,
   "id": "efe1fa0c",
   "metadata": {
    "tags": []
   },
   "outputs": [],
   "source": [
    "from pyspark.sql import SparkSession\n",
    "from pyspark.sql.types import *\n",
    "from pyspark.sql.functions import *\n",
    "import pyspark\n",
    "import pandas as pd\n",
    "import os\n",
    "import requests\n",
    "from datetime import datetime\n",
    "import pyarrow"
   ]
  },
  {
   "cell_type": "code",
   "execution_count": null,
   "id": "048b2bd0",
   "metadata": {
    "tags": []
   },
   "outputs": [],
   "source": [
    "os.environ['HADOOP_CONF_DIR'] = '/etc/hadoop/conf'\n",
    "os.environ['JAVA_HOME'] = '/usr/local/jdk8u222-b10'\n",
    "os.environ['HADOOP_USER_NAME']='hive'\n",
    "os.environ['PYSPARK_PYTHON'] ='/HDFS01/anaconda3/envs/main/bin/python'\n",
    "conf = pyspark.SparkConf().setAll([\n",
    "     ('spark.driver.maxResultSize', '0'),\n",
    "     ('spark.driver.memory', '2g'),\n",
    "     ('spark.sql.repl.eagerEval.enabled','true'),\n",
    "     ('hive.strict.managed.tables','false'),\n",
    "     ('hive.metastore.uris', 'thrift://nn01.bigdata:9083'),\n",
    "     ('metastore.client.capability.check','false')\n",
    "    ])\n",
    "spark = SparkSession.builder \\\n",
    "        .master(\"local[*]\") \\\n",
    "        .appName(\"myApp\") \\\n",
    "        .config(conf=conf) \\\n",
    "        .enableHiveSupport() \\\n",
    "        .getOrCreate();"
   ]
  },
  {
   "cell_type": "code",
   "execution_count": null,
   "id": "52068dc3",
   "metadata": {
    "tags": []
   },
   "outputs": [],
   "source": [
    "schema = StructType([\n",
    "    StructField(\"id\", IntegerType(), True),\n",
    "    StructField(\"workby\", StringType(), True),\n",
    "    StructField(\"customer\", StringType(), True),\n",
    "    StructField(\"site\", StringType(), True),\n",
    "    StructField(\"malltype\", StringType(), True),\n",
    "    StructField(\"worktype\", StringType(), True),\n",
    "    StructField(\"details\", StringType(), True),\n",
    "    StructField(\"onsite\", StringType(), True),\n",
    "    StructField(\"time\", StringType(), True),\n",
    "    StructField(\"travel\", StringType(), True),\n",
    "    StructField(\"engineer\", StringType(), True),\n",
    "    StructField(\"status\", StringType(), True),\n",
    "    StructField(\"day\", StringType(), True),\n",
    "    StructField(\"date_start\", StringType(), True),\n",
    "    StructField(\"date_end\", StringType(), True),\n",
    "    StructField(\"status_work\", StringType(), True),\n",
    "    StructField(\"end_job_detail\", StringType(), True),\n",
    "    StructField(\"file_location\", StringType(), True),\n",
    "    StructField(\"update_by\", StringType(), True)\n",
    "])"
   ]
  },
  {
   "cell_type": "code",
   "execution_count": null,
   "id": "3f4f3628",
   "metadata": {
    "tags": []
   },
   "outputs": [],
   "source": [
    "df = spark.createDataFrame(pd.read_json(f\"http://engineer.da.co.th/api_json.php?all\"), schema=schema)"
   ]
  },
  {
   "cell_type": "code",
   "execution_count": null,
   "id": "1665ef8f",
   "metadata": {},
   "outputs": [],
   "source": [
    "df2 = df.repartition(5, \"date_start\")"
   ]
  },
  {
   "cell_type": "code",
   "execution_count": null,
   "id": "87813c86",
   "metadata": {
    "tags": []
   },
   "outputs": [],
   "source": [
    "df.write \\\n",
    "    .mode(\"overwrite\") \\\n",
    "\t.partitionBy(\"date_start\") \\\n",
    "    .saveAsTable(\"pyspark.engineer\")"
   ]
  },
  {
   "cell_type": "code",
   "execution_count": null,
   "id": "b3527986",
   "metadata": {},
   "outputs": [],
   "source": [
    "spark.read.table(\"pyspark.test3\")"
   ]
  },
  {
   "cell_type": "code",
   "execution_count": null,
   "id": "2170e31b",
   "metadata": {},
   "outputs": [],
   "source": [
    "os.system(\"sudo -u hdfs hdfs dfs -ls /user/hive/warehouse/pyspark.db/engineer_partition/date_start=2023-01-27\")"
   ]
  },
  {
   "cell_type": "code",
   "execution_count": null,
   "id": "62ebae0b",
   "metadata": {
    "tags": []
   },
   "outputs": [],
   "source": [
    "x = spark.createDataFrame(pd.read_sql(\"select * from raw_data_j1.j1_rank_no\",con=)).toPandas()"
   ]
  },
  {
   "cell_type": "code",
   "execution_count": null,
   "id": "b8f7140a-d3d5-42e1-a3cb-bc9b8873aad7",
   "metadata": {},
   "outputs": [],
   "source": []
  },
  {
   "cell_type": "code",
   "execution_count": null,
   "id": "31a020ea-4f2f-4c96-95e7-6861000c9e4d",
   "metadata": {
    "tags": []
   },
   "outputs": [],
   "source": [
    "data = spark.read.table('etl_j4.manpower_resource_account_no_province') \\\n",
    "            .filter(\"series =='1'\")"
   ]
  },
  {
   "cell_type": "code",
   "execution_count": null,
   "id": "4e8ecbf7-ed68-4513-ac28-91743f87bb48",
   "metadata": {
    "tags": []
   },
   "outputs": [],
   "source": []
  },
  {
   "cell_type": "code",
   "execution_count": null,
   "id": "a3085d92-c8cd-4280-9f23-edfb4a6ceef2",
   "metadata": {
    "tags": []
   },
   "outputs": [],
   "source": [
    "if spark.sql('show tables in etl_j4').filter(\"tableName == 'manpower_resource_account_no_province3'\").count() > 0:\n",
    "    data.write \\\n",
    "        .mode('append') \\\n",
    "        .saveAsTable('etl_j4.manpower_resource_account_no_province2')\n",
    "else:\n",
    "    data.write \\\n",
    "    .mode('overwrite') \\\n",
    "    .saveAsTable('etl_j4.manpower_resource_account_no_province2')"
   ]
  },
  {
   "cell_type": "code",
   "execution_count": null,
   "id": "09129ec8-a08d-4e1a-8aa9-d713e1bcb5bc",
   "metadata": {
    "tags": []
   },
   "outputs": [],
   "source": [
    "check"
   ]
  },
  {
   "cell_type": "code",
   "execution_count": null,
   "id": "beb70b18-8f10-42c7-afeb-982acf2099da",
   "metadata": {},
   "outputs": [],
   "source": []
  }
 ],
 "metadata": {
  "kernelspec": {
   "display_name": "Python 3 (ipykernel)",
   "language": "python",
   "name": "python3"
  },
  "language_info": {
   "codemirror_mode": {
    "name": "ipython",
    "version": 3
   },
   "file_extension": ".py",
   "mimetype": "text/x-python",
   "name": "python",
   "nbconvert_exporter": "python",
   "pygments_lexer": "ipython3",
   "version": "3.9.16"
  }
 },
 "nbformat": 4,
 "nbformat_minor": 5
}
