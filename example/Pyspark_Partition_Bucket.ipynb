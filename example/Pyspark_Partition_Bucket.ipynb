{
 "cells": [
  {
   "cell_type": "code",
   "execution_count": 1,
   "id": "efe1fa0c",
   "metadata": {
    "tags": []
   },
   "outputs": [],
   "source": [
    "from pyspark.sql import SparkSession\n",
    "from pyspark.sql.types import *\n",
    "from pyspark.sql.functions import *\n",
    "import pyspark\n",
    "import pandas as pd\n",
    "import os\n",
    "import requests\n",
    "from datetime import datetime\n",
    "import pyarrow"
   ]
  },
  {
   "cell_type": "code",
   "execution_count": 2,
   "id": "048b2bd0",
   "metadata": {
    "tags": []
   },
   "outputs": [
    {
     "name": "stderr",
     "output_type": "stream",
     "text": [
      "Warning: Ignoring non-Spark config property: hive.strict.managed.tables\n",
      "Warning: Ignoring non-Spark config property: hive.metastore.uris\n",
      "Warning: Ignoring non-Spark config property: metastore.client.capability.check\n",
      "Setting default log level to \"WARN\".\n",
      "To adjust logging level use sc.setLogLevel(newLevel). For SparkR, use setLogLevel(newLevel).\n"
     ]
    },
    {
     "name": "stdout",
     "output_type": "stream",
     "text": [
      "23/04/03 06:39:57 WARN NativeCodeLoader: Unable to load native-hadoop library for your platform... using builtin-java classes where applicable\n",
      "23/04/03 06:39:59 WARN Utils: Service 'SparkUI' could not bind on port 4040. Attempting port 4041.\n",
      "23/04/03 06:39:59 WARN Utils: Service 'SparkUI' could not bind on port 4041. Attempting port 4042.\n",
      "23/04/03 06:39:59 WARN Utils: Service 'SparkUI' could not bind on port 4042. Attempting port 4043.\n",
      "23/04/03 06:39:59 WARN Utils: Service 'SparkUI' could not bind on port 4043. Attempting port 4044.\n",
      "23/04/03 06:39:59 WARN Utils: Service 'SparkUI' could not bind on port 4044. Attempting port 4045.\n"
     ]
    }
   ],
   "source": [
    "os.environ['HADOOP_CONF_DIR'] = '/etc/hadoop/conf'\n",
    "os.environ['JAVA_HOME'] = '/usr/local/jdk8u222-b10'\n",
    "os.environ['HADOOP_USER_NAME']='hive'\n",
    "os.environ['PYSPARK_PYTHON'] ='/HDFS01/anaconda3/envs/main/bin/python'\n",
    "conf = pyspark.SparkConf().setAll([\n",
    "     ('spark.driver.maxResultSize', '0'),\n",
    "     ('spark.driver.memory', '2g'),\n",
    "     ('spark.sql.repl.eagerEval.enabled','true'),\n",
    "     ('hive.strict.managed.tables','false'),\n",
    "     ('hive.metastore.uris', 'thrift://nn01.bigdata:9083'),\n",
    "     ('metastore.client.capability.check','false')\n",
    "    ])\n",
    "spark = SparkSession.builder \\\n",
    "        .master(\"local[*]\") \\\n",
    "        .appName(\"myApp\") \\\n",
    "        .config(conf=conf) \\\n",
    "        .enableHiveSupport() \\\n",
    "        .getOrCreate();"
   ]
  },
  {
   "cell_type": "code",
   "execution_count": 4,
   "id": "52068dc3",
   "metadata": {
    "tags": []
   },
   "outputs": [],
   "source": [
    "schema = StructType([\n",
    "    StructField(\"id\", IntegerType(), True),\n",
    "    StructField(\"workby\", StringType(), True),\n",
    "    StructField(\"customer\", StringType(), True),\n",
    "    StructField(\"site\", StringType(), True),\n",
    "    StructField(\"malltype\", StringType(), True),\n",
    "    StructField(\"worktype\", StringType(), True),\n",
    "    StructField(\"details\", StringType(), True),\n",
    "    StructField(\"onsite\", StringType(), True),\n",
    "    StructField(\"time\", StringType(), True),\n",
    "    StructField(\"travel\", StringType(), True),\n",
    "    StructField(\"engineer\", StringType(), True),\n",
    "    StructField(\"status\", StringType(), True),\n",
    "    StructField(\"day\", StringType(), True),\n",
    "    StructField(\"date_start\", StringType(), True),\n",
    "    StructField(\"date_end\", StringType(), True),\n",
    "    StructField(\"status_work\", StringType(), True),\n",
    "    StructField(\"end_job_detail\", StringType(), True),\n",
    "    StructField(\"file_location\", StringType(), True),\n",
    "    StructField(\"update_by\", StringType(), True)\n",
    "])"
   ]
  },
  {
   "cell_type": "code",
   "execution_count": 5,
   "id": "3f4f3628",
   "metadata": {
    "tags": []
   },
   "outputs": [
    {
     "name": "stderr",
     "output_type": "stream",
     "text": [
      "/HDFS01/anaconda3/envs/main/lib/python3.9/site-packages/pyspark/sql/pandas/conversion.py:486: FutureWarning: iteritems is deprecated and will be removed in a future version. Use .items instead.\n",
      "  for column, series in pdf.iteritems():\n"
     ]
    }
   ],
   "source": [
    "df = spark.createDataFrame(pd.read_json(f\"http://engineer.da.co.th/api_json.php?all\"), schema=schema)"
   ]
  },
  {
   "cell_type": "code",
   "execution_count": null,
   "id": "1665ef8f",
   "metadata": {},
   "outputs": [],
   "source": [
    "df2 = df.repartition(5, \"date_start\")"
   ]
  },
  {
   "cell_type": "code",
   "execution_count": 6,
   "id": "dfded94b-59dd-4404-b463-e3012e3cbc62",
   "metadata": {
    "tags": []
   },
   "outputs": [
    {
     "name": "stderr",
     "output_type": "stream",
     "text": [
      "                                                                                \r"
     ]
    },
    {
     "data": {
      "text/html": [
       "<table border='1'>\n",
       "<tr><th>id</th><th>workby</th><th>customer</th><th>site</th><th>malltype</th><th>worktype</th><th>details</th><th>onsite</th><th>time</th><th>travel</th><th>engineer</th><th>status</th><th>day</th><th>date_start</th><th>date_end</th><th>status_work</th><th>end_job_detail</th><th>file_location</th><th>update_by</th></tr>\n",
       "<tr><td>1866</td><td>NAM</td><td>Samsonite</td><td>central festival ...</td><td>Retails</td><td>Alert</td><td>เปลี่ยน กล้อง viv...</td><td>Remote</td><td>16:00</td><td>-</td><td>Toey</td><td></td><td>ศุกร์</td><td>2023-03-31</td><td>2023-03-31</td><td></td><td></td><td></td><td>nam</td></tr>\n",
       "<tr><td>1865</td><td>NAM</td><td>Bata</td><td>BigC หาดใหญ่</td><td>Retails</td><td>Alert</td><td>กล้องเบอร์ 01 ไม่...</td><td>Remote</td><td>18:00</td><td>-</td><td>Dach</td><td></td><td>ศุกร์</td><td>2023-03-31</td><td>2023-03-31</td><td></td><td></td><td></td><td>nam</td></tr>\n",
       "<tr><td>1864</td><td>NAM</td><td>Bata</td><td>Central Pisanulok</td><td>Retails</td><td>Alert</td><td>กล้องเบอร์ 01 ไม่...</td><td>Remote</td><td>18:00</td><td>-</td><td>Neung</td><td></td><td>ศุกร์</td><td>2023-03-31</td><td>2023-03-31</td><td></td><td></td><td></td><td>nam</td></tr>\n",
       "<tr><td>1863</td><td>NAM</td><td>Bata</td><td>Robinson_Saraburi</td><td>Retails</td><td>Alert</td><td>กล้องเบอร์ 01 ไม่...</td><td>Yes</td><td>11:00</td><td>เตี้ย</td><td>Sang+Pun</td><td></td><td>ศุกร์</td><td>2023-03-31</td><td>2023-03-31</td><td></td><td></td><td></td><td>nam</td></tr>\n",
       "<tr><td>1862</td><td>NAM</td><td>Bata</td><td>Big C มหาชัย</td><td>Retails</td><td>Alert</td><td>กล้องเบอร์ 01 ไม่...</td><td>Yes</td><td>09:00</td><td>รถคันใหม่</td><td>Num+Kie</td><td></td><td>ศุกร์</td><td>2023-03-31</td><td>2023-03-31</td><td></td><td></td><td></td><td>nam</td></tr>\n",
       "<tr><td>1861</td><td>NAM</td><td>TAG HEUER</td><td>Mega Bangna</td><td>Retails</td><td>Install</td><td>ลูกค้าทำการ wirin...</td><td>Yes</td><td>09:00</td><td>รถคันใหม่</td><td>์ี์Num+Loh+Pun</td><td></td><td>จันทร์</td><td>2023-04-24</td><td>2023-04-24</td><td></td><td></td><td></td><td>nam</td></tr>\n",
       "<tr><td>1860</td><td>NAM</td><td> Big C </td><td>ลาดพร้าว2</td><td>Mall</td><td>Survey</td><td></td><td>Yes</td><td>15:00</td><td>เช่า</td><td>Toey+Sang</td><td></td><td>จันทร์</td><td>2023-04-03</td><td>2023-04-03</td><td></td><td></td><td></td><td>nam</td></tr>\n",
       "<tr><td>1859</td><td>NAM</td><td>Samsonite</td><td>CPN_CT World</td><td>Retails</td><td>Alert</td><td></td><td>Yes</td><td>13:00</td><td>เตี้ย</td><td>Num+Bird</td><td>รับทราบ</td><td>พฤหัสบดี</td><td>2023-03-30</td><td>2023-03-30</td><td>Done</td><td>ดำเนินการเรียบร้อย</td><td></td><td>nam</td></tr>\n",
       "<tr><td>1858</td><td>NAM</td><td>Mega Bangna</td><td>-</td><td>Mall</td><td>Survey</td><td>สาเหตุเข้ารอบสอง ...</td><td>Yes</td><td>20:00</td><td>รถคันใหม่</td><td>Neung+Toey</td><td></td><td>พฤหัสบดี</td><td>2023-03-30</td><td>2023-03-30</td><td></td><td></td><td></td><td>nam</td></tr>\n",
       "<tr><td>1857</td><td>NAM</td><td>Bata</td><td>Hompro สุวรรณภูมิ</td><td>Retails</td><td>Alert</td><td>กล้องเบอร์ 01, 03...</td><td>Yes</td><td>11:00</td><td>รถคันใหม่</td><td>Toey+Sang</td><td></td><td>ศุกร์</td><td>2023-04-07</td><td>2023-04-07</td><td></td><td></td><td></td><td>nam</td></tr>\n",
       "<tr><td>1856</td><td>NAM</td><td>Bata</td><td>BigC Bangpakok</td><td>Retails</td><td>Alert</td><td>กล้องเบอร์ 03 ไม่...</td><td>Yes</td><td>10:00</td><td>รถคันใหม่</td><td>Toey+Sang</td><td></td><td>พฤหัสบดี</td><td>2023-04-06</td><td>2023-04-06</td><td></td><td></td><td></td><td>nam</td></tr>\n",
       "<tr><td>1855</td><td>NAM</td><td>Bata</td><td>Lotus Amatanakorn</td><td>Retails</td><td>Alert</td><td>กล้องเบอร์ 01 มีฝ...</td><td>Yes</td><td>20:00</td><td>รถคันใหม่</td><td>Toey+Sang</td><td></td><td>พุธ</td><td>2023-04-05</td><td>2023-04-05</td><td></td><td></td><td></td><td>nam</td></tr>\n",
       "<tr><td>1854</td><td>NAM</td><td>Bata</td><td>Central Westgate</td><td>Retails</td><td>Alert</td><td>กล้องเบอร์ 02 ไม่...</td><td>Yes</td><td>11:00</td><td>รถคันใหม่</td><td>Sang+Toey</td><td></td><td>Tue</td><td>2023-04-04</td><td>2023-04-04</td><td></td><td></td><td></td><td>nam</td></tr>\n",
       "<tr><td>1853</td><td>NAM</td><td>Bata</td><td>มาบุญครอง1</td><td>Retails</td><td>Alert</td><td>กล้อง 1 ไม่ส่งข้อมูล</td><td>Yes</td><td>11:00</td><td>เช่า</td><td>Sang+Toey+Nine</td><td></td><td>จันทร์</td><td>2023-04-03</td><td>2023-04-03</td><td></td><td></td><td></td><td>nam</td></tr>\n",
       "<tr><td>1852</td><td>NAM</td><td>The Mall</td><td>บางกะปิ</td><td>Mall</td><td>รื้อถอน</td><td>กล้องเบอร์ 7,8 ชั...</td><td>Yes</td><td>20:00</td><td>รถคันใหม่</td><td>Sang+Dech</td><td></td><td>อังคาร</td><td>2023-04-18</td><td>2023-04-18</td><td></td><td></td><td></td><td>nam</td></tr>\n",
       "<tr><td>1851</td><td>NAM</td><td>Samsung</td><td>TOPTEL THE MALL B...</td><td>Retails</td><td>รื้อถอน</td><td></td><td>Yes</td><td>20:00</td><td>เตี้ย</td><td>Sang+Bird</td><td>รับทราบ</td><td>ศุกร์</td><td>2023-03-31</td><td>2023-03-31</td><td></td><td></td><td></td><td>nam</td></tr>\n",
       "<tr><td>1850</td><td>NAM</td><td>Mega Bangna</td><td>-</td><td>Mall</td><td>Survey</td><td></td><td>Yes</td><td>13:00</td><td>รถคันใหม่</td><td>Neung+Sang</td><td></td><td>พุธ</td><td>2023-03-29</td><td>2023-03-29</td><td></td><td></td><td></td><td>nam</td></tr>\n",
       "<tr><td>1849</td><td>NAM</td><td>Mega Bangna</td><td>-</td><td>Mall</td><td>รื้อถอน</td><td>ถอดกล้องทั้งหมด 6...</td><td>Yes</td><td>20:00</td><td>รถคันใหม่</td><td>Neung+Loh+Bird</td><td>รับทราบ</td><td>Thu</td><td>2023-03-30</td><td>2023-03-30</td><td>Done</td><td>ดำเนินเรียบร้อย</td><td></td><td>nam</td></tr>\n",
       "<tr><td>1848</td><td>NAM</td><td>MA_ใต้ 2</td><td>-</td><td>Mall</td><td>MA</td><td></td><td>Yes</td><td>10:00</td><td>สูง</td><td>Toey+Siam</td><td></td><td>จันทร์</td><td>2023-04-17</td><td>2023-04-28</td><td></td><td></td><td></td><td>nam</td></tr>\n",
       "<tr><td>1847</td><td>NAM</td><td>MA_ใต้ 1</td><td>-</td><td>Mall</td><td>MA</td><td></td><td>Yes</td><td>10:00</td><td>เตี้ย</td><td>Neung+Bird</td><td>รับทราบ</td><td>จันทร์</td><td>2023-04-17</td><td>2023-04-30</td><td></td><td></td><td></td><td>nam</td></tr>\n",
       "</table>\n",
       "only showing top 20 rows\n"
      ],
      "text/plain": [
       "+----+------+-----------+--------------------+--------+--------+--------------------+------+-----+---------+--------------+-------+--------+----------+----------+-----------+------------------+-------------+---------+\n",
       "|  id|workby|   customer|                site|malltype|worktype|             details|onsite| time|   travel|      engineer| status|     day|date_start|  date_end|status_work|    end_job_detail|file_location|update_by|\n",
       "+----+------+-----------+--------------------+--------+--------+--------------------+------+-----+---------+--------------+-------+--------+----------+----------+-----------+------------------+-------------+---------+\n",
       "|1866|   NAM|  Samsonite|central festival ...| Retails|   Alert|เปลี่ยน กล้อง viv...|Remote|16:00|        -|          Toey|       |   ศุกร์|2023-03-31|2023-03-31|           |                  |             |      nam|\n",
       "|1865|   NAM|       Bata|        BigC หาดใหญ่| Retails|   Alert|กล้องเบอร์ 01 ไม่...|Remote|18:00|        -|          Dach|       |   ศุกร์|2023-03-31|2023-03-31|           |                  |             |      nam|\n",
       "|1864|   NAM|       Bata|   Central Pisanulok| Retails|   Alert|กล้องเบอร์ 01 ไม่...|Remote|18:00|        -|         Neung|       |   ศุกร์|2023-03-31|2023-03-31|           |                  |             |      nam|\n",
       "|1863|   NAM|       Bata|   Robinson_Saraburi| Retails|   Alert|กล้องเบอร์ 01 ไม่...|   Yes|11:00|    เตี้ย|      Sang+Pun|       |   ศุกร์|2023-03-31|2023-03-31|           |                  |             |      nam|\n",
       "|1862|   NAM|       Bata|        Big C มหาชัย| Retails|   Alert|กล้องเบอร์ 01 ไม่...|   Yes|09:00|รถคันใหม่|       Num+Kie|       |   ศุกร์|2023-03-31|2023-03-31|           |                  |             |      nam|\n",
       "|1861|   NAM|  TAG HEUER|         Mega Bangna| Retails| Install|ลูกค้าทำการ wirin...|   Yes|09:00|รถคันใหม่|์ี์Num+Loh+Pun|       |  จันทร์|2023-04-24|2023-04-24|           |                  |             |      nam|\n",
       "|1860|   NAM|     Big C |           ลาดพร้าว2|    Mall|  Survey|                    |   Yes|15:00|     เช่า|     Toey+Sang|       |  จันทร์|2023-04-03|2023-04-03|           |                  |             |      nam|\n",
       "|1859|   NAM|  Samsonite|        CPN_CT World| Retails|   Alert|                    |   Yes|13:00|    เตี้ย|      Num+Bird|รับทราบ|พฤหัสบดี|2023-03-30|2023-03-30|       Done|ดำเนินการเรียบร้อย|             |      nam|\n",
       "|1858|   NAM|Mega Bangna|                   -|    Mall|  Survey|สาเหตุเข้ารอบสอง ...|   Yes|20:00|รถคันใหม่|    Neung+Toey|       |พฤหัสบดี|2023-03-30|2023-03-30|           |                  |             |      nam|\n",
       "|1857|   NAM|       Bata|   Hompro สุวรรณภูมิ| Retails|   Alert|กล้องเบอร์ 01, 03...|   Yes|11:00|รถคันใหม่|     Toey+Sang|       |   ศุกร์|2023-04-07|2023-04-07|           |                  |             |      nam|\n",
       "|1856|   NAM|       Bata|      BigC Bangpakok| Retails|   Alert|กล้องเบอร์ 03 ไม่...|   Yes|10:00|รถคันใหม่|     Toey+Sang|       |พฤหัสบดี|2023-04-06|2023-04-06|           |                  |             |      nam|\n",
       "|1855|   NAM|       Bata|   Lotus Amatanakorn| Retails|   Alert|กล้องเบอร์ 01 มีฝ...|   Yes|20:00|รถคันใหม่|     Toey+Sang|       |     พุธ|2023-04-05|2023-04-05|           |                  |             |      nam|\n",
       "|1854|   NAM|       Bata|    Central Westgate| Retails|   Alert|กล้องเบอร์ 02 ไม่...|   Yes|11:00|รถคันใหม่|     Sang+Toey|       |     Tue|2023-04-04|2023-04-04|           |                  |             |      nam|\n",
       "|1853|   NAM|       Bata|          มาบุญครอง1| Retails|   Alert|กล้อง 1 ไม่ส่งข้อมูล|   Yes|11:00|     เช่า|Sang+Toey+Nine|       |  จันทร์|2023-04-03|2023-04-03|           |                  |             |      nam|\n",
       "|1852|   NAM|   The Mall|             บางกะปิ|    Mall| รื้อถอน|กล้องเบอร์ 7,8 ชั...|   Yes|20:00|รถคันใหม่|     Sang+Dech|       |  อังคาร|2023-04-18|2023-04-18|           |                  |             |      nam|\n",
       "|1851|   NAM|    Samsung|TOPTEL THE MALL B...| Retails| รื้อถอน|                    |   Yes|20:00|    เตี้ย|     Sang+Bird|รับทราบ|   ศุกร์|2023-03-31|2023-03-31|           |                  |             |      nam|\n",
       "|1850|   NAM|Mega Bangna|                   -|    Mall|  Survey|                    |   Yes|13:00|รถคันใหม่|    Neung+Sang|       |     พุธ|2023-03-29|2023-03-29|           |                  |             |      nam|\n",
       "|1849|   NAM|Mega Bangna|                   -|    Mall| รื้อถอน|ถอดกล้องทั้งหมด 6...|   Yes|20:00|รถคันใหม่|Neung+Loh+Bird|รับทราบ|     Thu|2023-03-30|2023-03-30|       Done|   ดำเนินเรียบร้อย|             |      nam|\n",
       "|1848|   NAM|   MA_ใต้ 2|                   -|    Mall|      MA|                    |   Yes|10:00|      สูง|     Toey+Siam|       |  จันทร์|2023-04-17|2023-04-28|           |                  |             |      nam|\n",
       "|1847|   NAM|   MA_ใต้ 1|                   -|    Mall|      MA|                    |   Yes|10:00|    เตี้ย|    Neung+Bird|รับทราบ|  จันทร์|2023-04-17|2023-04-30|           |                  |             |      nam|\n",
       "+----+------+-----------+--------------------+--------+--------+--------------------+------+-----+---------+--------------+-------+--------+----------+----------+-----------+------------------+-------------+---------+\n",
       "only showing top 20 rows"
      ]
     },
     "execution_count": 6,
     "metadata": {},
     "output_type": "execute_result"
    }
   ],
   "source": [
    "df"
   ]
  },
  {
   "cell_type": "code",
   "execution_count": 7,
   "id": "87813c86",
   "metadata": {
    "tags": []
   },
   "outputs": [
    {
     "name": "stderr",
     "output_type": "stream",
     "text": [
      "ERROR:root:KeyboardInterrupt while sending command.\n",
      "Traceback (most recent call last):\n",
      "  File \"/HDFS01/anaconda3/envs/main/lib/python3.9/site-packages/py4j/java_gateway.py\", line 1038, in send_command\n",
      "    response = connection.send_command(command)\n",
      "  File \"/HDFS01/anaconda3/envs/main/lib/python3.9/site-packages/py4j/clientserver.py\", line 511, in send_command\n",
      "    answer = smart_decode(self.stream.readline()[:-1])\n",
      "  File \"/HDFS01/anaconda3/envs/main/lib/python3.9/socket.py\", line 704, in readinto\n",
      "    return self._sock.recv_into(b)\n",
      "KeyboardInterrupt\n",
      "\n",
      "KeyboardInterrupt\n",
      "\n"
     ]
    }
   ],
   "source": [
    "df.write \\\n",
    "    .mode(\"overwrite\") \\\n",
    "\t.partitionBy(\"date_start\") \\\n",
    "    .saveAsTable(\"pyspark.engineer\")"
   ]
  },
  {
   "cell_type": "code",
   "execution_count": null,
   "id": "b3527986",
   "metadata": {},
   "outputs": [],
   "source": [
    "spark.read.table(\"pyspark.test3\")"
   ]
  },
  {
   "cell_type": "code",
   "execution_count": null,
   "id": "2170e31b",
   "metadata": {},
   "outputs": [],
   "source": [
    "os.system(\"sudo -u hdfs hdfs dfs -ls /user/hive/warehouse/pyspark.db/engineer_partition/date_start=2023-01-27\")"
   ]
  },
  {
   "cell_type": "code",
   "execution_count": null,
   "id": "62ebae0b",
   "metadata": {
    "tags": []
   },
   "outputs": [],
   "source": [
    "x = spark.createDataFrame(pd.read_sql(\"select * from raw_data_j1.j1_rank_no\",con=)).toPandas()"
   ]
  },
  {
   "cell_type": "code",
   "execution_count": null,
   "id": "b8f7140a-d3d5-42e1-a3cb-bc9b8873aad7",
   "metadata": {},
   "outputs": [],
   "source": []
  },
  {
   "cell_type": "code",
   "execution_count": null,
   "id": "31a020ea-4f2f-4c96-95e7-6861000c9e4d",
   "metadata": {
    "tags": []
   },
   "outputs": [],
   "source": [
    "data = spark.read.table('etl_j4.manpower_resource_account_no_province') \\\n",
    "            .filter(\"series =='1'\")"
   ]
  },
  {
   "cell_type": "code",
   "execution_count": null,
   "id": "4e8ecbf7-ed68-4513-ac28-91743f87bb48",
   "metadata": {
    "tags": []
   },
   "outputs": [],
   "source": []
  },
  {
   "cell_type": "code",
   "execution_count": null,
   "id": "a3085d92-c8cd-4280-9f23-edfb4a6ceef2",
   "metadata": {
    "tags": []
   },
   "outputs": [],
   "source": [
    "if spark.sql('show tables in etl_j4').filter(\"tableName == 'manpower_resource_account_no_province3'\").count() > 0:\n",
    "    data.write \\\n",
    "        .mode('append') \\\n",
    "        .saveAsTable('etl_j4.manpower_resource_account_no_province2')\n",
    "else:\n",
    "    data.write \\\n",
    "    .mode('overwrite') \\\n",
    "    .saveAsTable('etl_j4.manpower_resource_account_no_province2')"
   ]
  },
  {
   "cell_type": "code",
   "execution_count": null,
   "id": "09129ec8-a08d-4e1a-8aa9-d713e1bcb5bc",
   "metadata": {
    "tags": []
   },
   "outputs": [],
   "source": [
    "check"
   ]
  },
  {
   "cell_type": "code",
   "execution_count": null,
   "id": "beb70b18-8f10-42c7-afeb-982acf2099da",
   "metadata": {},
   "outputs": [],
   "source": []
  }
 ],
 "metadata": {
  "kernelspec": {
   "display_name": "Python 3 (ipykernel)",
   "language": "python",
   "name": "python3"
  },
  "language_info": {
   "codemirror_mode": {
    "name": "ipython",
    "version": 3
   },
   "file_extension": ".py",
   "mimetype": "text/x-python",
   "name": "python",
   "nbconvert_exporter": "python",
   "pygments_lexer": "ipython3",
   "version": "3.9.16"
  }
 },
 "nbformat": 4,
 "nbformat_minor": 5
}
