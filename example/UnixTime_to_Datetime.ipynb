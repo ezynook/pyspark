{
 "cells": [
  {
   "cell_type": "markdown",
   "id": "ef41bbe4-2346-4936-97e1-942c5aeec9b5",
   "metadata": {},
   "source": [
    "## Unixtime To Datetime"
   ]
  },
  {
   "cell_type": "code",
   "execution_count": 1,
   "id": "afacadff-2937-45c6-9ddd-9b1e24c31cc9",
   "metadata": {
    "tags": []
   },
   "outputs": [],
   "source": [
    "import pandas as pd\n",
    "from datetime import datetime\n",
    "import datetime"
   ]
  },
  {
   "cell_type": "code",
   "execution_count": 2,
   "id": "367fe958-1ed0-4c0c-bd56-66f805b314bb",
   "metadata": {
    "tags": []
   },
   "outputs": [],
   "source": [
    "df = pd.read_csv(\"Connection.csv\")"
   ]
  },
  {
   "cell_type": "code",
   "execution_count": 3,
   "id": "fc09c886",
   "metadata": {
    "tags": []
   },
   "outputs": [],
   "source": [
    "df['TIME'] = df[\"TIME\"].str.replace(',','')"
   ]
  },
  {
   "cell_type": "code",
   "execution_count": 4,
   "id": "2dd88377-c033-456d-a2b0-82f51d9184a8",
   "metadata": {
    "tags": []
   },
   "outputs": [],
   "source": [
    "df['DATETIME'] = pd.to_datetime(df['TIME'], unit='s')"
   ]
  },
  {
   "cell_type": "code",
   "execution_count": 5,
   "id": "6c2cf7b3-2b80-4b32-a0e4-89c5d7480c1d",
   "metadata": {
    "tags": []
   },
   "outputs": [],
   "source": [
    "df = df.drop(columns='TIME')"
   ]
  },
  {
   "cell_type": "code",
   "execution_count": 6,
   "id": "f7f0ace2-7eb2-42ad-8b30-8682a5efcae6",
   "metadata": {
    "tags": []
   },
   "outputs": [
    {
     "data": {
      "text/html": [
       "<div>\n",
       "<style scoped>\n",
       "    .dataframe tbody tr th:only-of-type {\n",
       "        vertical-align: middle;\n",
       "    }\n",
       "\n",
       "    .dataframe tbody tr th {\n",
       "        vertical-align: top;\n",
       "    }\n",
       "\n",
       "    .dataframe thead th {\n",
       "        text-align: right;\n",
       "    }\n",
       "</style>\n",
       "<table border=\"1\" class=\"dataframe\">\n",
       "  <thead>\n",
       "    <tr style=\"text-align: right;\">\n",
       "      <th></th>\n",
       "      <th>ID</th>\n",
       "      <th>NAME</th>\n",
       "      <th>TEXT</th>\n",
       "      <th>DATETIME</th>\n",
       "    </tr>\n",
       "  </thead>\n",
       "  <tbody>\n",
       "    <tr>\n",
       "      <th>0</th>\n",
       "      <td>1</td>\n",
       "      <td>Mobile Data</td>\n",
       "      <td>Mobile data connected, IP: 10.9.131.179 AIS</td>\n",
       "      <td>2023-04-07 06:20:52</td>\n",
       "    </tr>\n",
       "    <tr>\n",
       "      <th>1</th>\n",
       "      <td>2</td>\n",
       "      <td>Mobile Data</td>\n",
       "      <td>Mobile data connected, IP: 10.10.191.148 AIS</td>\n",
       "      <td>2023-04-07 06:28:49</td>\n",
       "    </tr>\n",
       "    <tr>\n",
       "      <th>2</th>\n",
       "      <td>3</td>\n",
       "      <td>Mobile Data</td>\n",
       "      <td>Mobile data disconnected</td>\n",
       "      <td>2023-04-07 06:45:35</td>\n",
       "    </tr>\n",
       "    <tr>\n",
       "      <th>3</th>\n",
       "      <td>4</td>\n",
       "      <td>Network Operator</td>\n",
       "      <td>Connected to AIS operator</td>\n",
       "      <td>2023-04-07 06:46:05</td>\n",
       "    </tr>\n",
       "    <tr>\n",
       "      <th>4</th>\n",
       "      <td>5</td>\n",
       "      <td>Mobile Data</td>\n",
       "      <td>Mobile data connected, IP: 10.18.103.215 AIS</td>\n",
       "      <td>2023-04-07 06:47:48</td>\n",
       "    </tr>\n",
       "    <tr>\n",
       "      <th>...</th>\n",
       "      <td>...</td>\n",
       "      <td>...</td>\n",
       "      <td>...</td>\n",
       "      <td>...</td>\n",
       "    </tr>\n",
       "    <tr>\n",
       "      <th>337</th>\n",
       "      <td>338</td>\n",
       "      <td>Mobile Data</td>\n",
       "      <td>Mobile data connected, IP: 10.1.41.224 AIS</td>\n",
       "      <td>2023-05-11 07:05:25</td>\n",
       "    </tr>\n",
       "    <tr>\n",
       "      <th>338</th>\n",
       "      <td>339</td>\n",
       "      <td>Network Operator</td>\n",
       "      <td>Connected to AIS operator</td>\n",
       "      <td>2023-05-11 07:45:54</td>\n",
       "    </tr>\n",
       "    <tr>\n",
       "      <th>339</th>\n",
       "      <td>340</td>\n",
       "      <td>WiFi</td>\n",
       "      <td>WiFi client connected: F8:AC:65:01:9C:30</td>\n",
       "      <td>2023-05-11 08:25:14</td>\n",
       "    </tr>\n",
       "    <tr>\n",
       "      <th>340</th>\n",
       "      <td>341</td>\n",
       "      <td>WiFi</td>\n",
       "      <td>WiFi client disconnected: F8:AC:65:01:9C:30  N...</td>\n",
       "      <td>2023-05-11 08:30:56</td>\n",
       "    </tr>\n",
       "    <tr>\n",
       "      <th>341</th>\n",
       "      <td>342</td>\n",
       "      <td>WiFi</td>\n",
       "      <td>WiFi client connected: F8:AC:65:01:9C:30  Nutt...</td>\n",
       "      <td>2023-05-11 08:36:25</td>\n",
       "    </tr>\n",
       "  </tbody>\n",
       "</table>\n",
       "<p>342 rows × 4 columns</p>\n",
       "</div>"
      ],
      "text/plain": [
       "      ID              NAME                                               TEXT  \\\n",
       "0      1       Mobile Data        Mobile data connected, IP: 10.9.131.179 AIS   \n",
       "1      2       Mobile Data       Mobile data connected, IP: 10.10.191.148 AIS   \n",
       "2      3       Mobile Data                           Mobile data disconnected   \n",
       "3      4  Network Operator                          Connected to AIS operator   \n",
       "4      5       Mobile Data       Mobile data connected, IP: 10.18.103.215 AIS   \n",
       "..   ...               ...                                                ...   \n",
       "337  338       Mobile Data         Mobile data connected, IP: 10.1.41.224 AIS   \n",
       "338  339  Network Operator                          Connected to AIS operator   \n",
       "339  340              WiFi         WiFi client connected: F8:AC:65:01:9C:30     \n",
       "340  341              WiFi  WiFi client disconnected: F8:AC:65:01:9C:30  N...   \n",
       "341  342              WiFi  WiFi client connected: F8:AC:65:01:9C:30  Nutt...   \n",
       "\n",
       "               DATETIME  \n",
       "0   2023-04-07 06:20:52  \n",
       "1   2023-04-07 06:28:49  \n",
       "2   2023-04-07 06:45:35  \n",
       "3   2023-04-07 06:46:05  \n",
       "4   2023-04-07 06:47:48  \n",
       "..                  ...  \n",
       "337 2023-05-11 07:05:25  \n",
       "338 2023-05-11 07:45:54  \n",
       "339 2023-05-11 08:25:14  \n",
       "340 2023-05-11 08:30:56  \n",
       "341 2023-05-11 08:36:25  \n",
       "\n",
       "[342 rows x 4 columns]"
      ]
     },
     "execution_count": 6,
     "metadata": {},
     "output_type": "execute_result"
    }
   ],
   "source": [
    "df"
   ]
  }
 ],
 "metadata": {
  "kernelspec": {
   "display_name": "Python 3 (ipykernel)",
   "language": "python",
   "name": "python3"
  },
  "language_info": {
   "codemirror_mode": {
    "name": "ipython",
    "version": 3
   },
   "file_extension": ".py",
   "mimetype": "text/x-python",
   "name": "python",
   "nbconvert_exporter": "python",
   "pygments_lexer": "ipython3",
   "version": "3.9.16"
  }
 },
 "nbformat": 4,
 "nbformat_minor": 5
}
