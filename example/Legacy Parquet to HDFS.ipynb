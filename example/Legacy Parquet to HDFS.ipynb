{
 "cells": [
  {
   "cell_type": "code",
   "execution_count": null,
   "id": "0ad28ca6",
   "metadata": {},
   "outputs": [],
   "source": [
    "from pyspark.sql import SparkSession\n",
    "from pyspark.sql.types import *\n",
    "from pyspark.sql.functions import *\n",
    "import pyspark\n",
    "import pandas as pd\n",
    "import os\n",
    "import requests\n",
    "from datetime import datetime\n",
    "import pyarrow"
   ]
  },
  {
   "cell_type": "markdown",
   "id": "2bdc66db",
   "metadata": {},
   "source": [
    "## Schema\n",
    "\n",
    "```bash\n",
    "CREATE TABLE `pyspark.example_table` (\n",
    "  `id` string, \n",
    "  `name` string\n",
    ")\n",
    "STORED AS PARQUET;\n",
    "```"
   ]
  },
  {
   "cell_type": "code",
   "execution_count": null,
   "id": "55bdab83",
   "metadata": {},
   "outputs": [],
   "source": [
    "os.environ['HADOOP_CONF_DIR'] = '/etc/hadoop/conf'\n",
    "os.environ['JAVA_HOME'] = '/usr/local/jdk8u222-b10'\n",
    "os.environ['HADOOP_USER_NAME']='hive'\n",
    "os.environ['PYSPARK_PYTHON'] ='/HDFS01/anaconda3/envs/main/bin/python'\n",
    "conf = pyspark.SparkConf().setAll([\n",
    "     ('spark.driver.maxResultSize', '0'),\n",
    "     ('spark.driver.memory', '2g'),\n",
    "     ('spark.sql.repl.eagerEval.enabled','true'),\n",
    "     ('hive.strict.managed.tables','false'),\n",
    "     ('hive.metastore.uris', 'thrift://nn01.bigdata:9083'),\n",
    "     ('metastore.client.capability.check','false')\n",
    "    ])\n",
    "spark = SparkSession.builder \\\n",
    "        .master(\"local[*]\") \\\n",
    "        .appName(\"myApp\") \\\n",
    "        .config(conf=conf) \\\n",
    "        .enableHiveSupport() \\\n",
    "        .getOrCreate();"
   ]
  },
  {
   "cell_type": "code",
   "execution_count": null,
   "id": "6b5e5ac6",
   "metadata": {},
   "outputs": [],
   "source": [
    "data = {\"id\": ['1', '2', '3','4'], \"name\": ['test', 'test2', 'test3','test4']}\n",
    "mydf = pd.DataFrame(data)"
   ]
  },
  {
   "cell_type": "code",
   "execution_count": null,
   "id": "a7b4ff5e",
   "metadata": {},
   "outputs": [],
   "source": [
    "schema = StructType([\n",
    "    StructField(\"id\", StringType(), True),\n",
    "    StructField(\"name\", StringType(), True),\n",
    "])"
   ]
  },
  {
   "cell_type": "code",
   "execution_count": null,
   "id": "285e5c36",
   "metadata": {},
   "outputs": [],
   "source": [
    "df = spark.createDataFrame(mydf, schema)"
   ]
  },
  {
   "cell_type": "code",
   "execution_count": null,
   "id": "969af123",
   "metadata": {},
   "outputs": [],
   "source": [
    "df"
   ]
  },
  {
   "cell_type": "code",
   "execution_count": null,
   "id": "339ef695",
   "metadata": {},
   "outputs": [],
   "source": [
    "df.write \\\n",
    ".mode('append') \\\n",
    ".parquet(\"hdfs://HDFSSOFTNIX/user/hive/warehouse/pyspark.db/example_table/\")"
   ]
  },
  {
   "cell_type": "code",
   "execution_count": null,
   "id": "80a378d2",
   "metadata": {},
   "outputs": [],
   "source": [
    "os.system(\"sudo -u hdfs hdfs dfs -ls hdfs://HDFSSOFTNIX/user/hive/warehouse/pyspark.db/example_table/\")"
   ]
  },
  {
   "cell_type": "code",
   "execution_count": null,
   "id": "97184beb",
   "metadata": {},
   "outputs": [],
   "source": [
    "spark.stop()"
   ]
  }
 ],
 "metadata": {
  "kernelspec": {
   "display_name": "Python 3 (ipykernel)",
   "language": "python",
   "name": "python3"
  },
  "language_info": {
   "codemirror_mode": {
    "name": "ipython",
    "version": 3
   },
   "file_extension": ".py",
   "mimetype": "text/x-python",
   "name": "python",
   "nbconvert_exporter": "python",
   "pygments_lexer": "ipython3",
   "version": "3.9.16"
  }
 },
 "nbformat": 4,
 "nbformat_minor": 5
}
