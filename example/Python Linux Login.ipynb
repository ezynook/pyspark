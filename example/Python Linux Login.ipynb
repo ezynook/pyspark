{
 "cells": [
  {
   "cell_type": "code",
   "execution_count": 1,
   "id": "224536af-816c-4df7-9732-8c797552fb69",
   "metadata": {
    "tags": []
   },
   "outputs": [],
   "source": [
    "import crypt, getpass, spwd"
   ]
  },
  {
   "cell_type": "code",
   "execution_count": 2,
   "id": "fbb4c191-1a84-4b2d-952f-c5c56011390a",
   "metadata": {
    "tags": []
   },
   "outputs": [],
   "source": [
    "def check_pass(usr: str, passwd: str):\n",
    "    password = spwd.getspnam(usr).sp_pwdp\n",
    "    if password:\n",
    "        return crypt.crypt(passwd, password) == password\n",
    "    else:\n",
    "        return 10"
   ]
  },
  {
   "cell_type": "code",
   "execution_count": 5,
   "id": "f99ee277-14cf-470e-a2e4-47a5690ebd84",
   "metadata": {
    "tags": []
   },
   "outputs": [],
   "source": [
    "a = check_pass(\"root\",\"admin\")"
   ]
  },
  {
   "cell_type": "code",
   "execution_count": 7,
   "id": "477df975-d068-489e-826f-eb0b3895c102",
   "metadata": {},
   "outputs": [
    {
     "data": {
      "text/plain": [
       "bool"
      ]
     },
     "execution_count": 7,
     "metadata": {},
     "output_type": "execute_result"
    }
   ],
   "source": [
    "type(a)"
   ]
  },
  {
   "cell_type": "code",
   "execution_count": null,
   "id": "7fb187b6-e411-4c27-ae3e-5f51790577bd",
   "metadata": {},
   "outputs": [],
   "source": []
  }
 ],
 "metadata": {
  "kernelspec": {
   "display_name": "Python 3 (ipykernel)",
   "language": "python",
   "name": "python3"
  },
  "language_info": {
   "codemirror_mode": {
    "name": "ipython",
    "version": 3
   },
   "file_extension": ".py",
   "mimetype": "text/x-python",
   "name": "python",
   "nbconvert_exporter": "python",
   "pygments_lexer": "ipython3",
   "version": "3.9.16"
  }
 },
 "nbformat": 4,
 "nbformat_minor": 5
}
