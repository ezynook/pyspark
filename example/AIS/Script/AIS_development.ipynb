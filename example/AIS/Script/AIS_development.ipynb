{
 "cells": [
  {
   "cell_type": "code",
   "execution_count": null,
   "id": "0bd2ee6b-f717-4d8a-ae59-bb9105cb97a6",
   "metadata": {
    "tags": []
   },
   "outputs": [],
   "source": [
    "from pyspark.sql import *\n",
    "from pyspark.sql.types import *\n",
    "from pyspark.sql.functions import *\n",
    "import pyspark\n",
    "import pandas as pd\n",
    "import os\n",
    "import requests\n",
    "from datetime import datetime, timedelta\n",
    "import dask.dataframe as dd\n",
    "from time import time\n",
    "import numpy as np"
   ]
  },
  {
   "cell_type": "code",
   "execution_count": null,
   "id": "1357ec2d-2837-4ae2-a2fa-7f65551e8577",
   "metadata": {
    "tags": []
   },
   "outputs": [],
   "source": [
    "os.environ['HADOOP_CONF_DIR'] = '/etc/hadoop/conf'\n",
    "os.environ['JAVA_HOME'] = '/usr/local/jdk8u222-b10'\n",
    "os.environ['HADOOP_USER_NAME']='hive'\n",
    "os.environ['PYSPARK_PYTHON'] ='/HDFS01/anaconda3/envs/main/bin/python'\n",
    "conf = pyspark.SparkConf().setAll([\n",
    "     ('spark.driver.maxResultSize', '0'),\n",
    "     ('spark.driver.memory', '2g'),\n",
    "     ('spark.sql.repl.eagerEval.enabled','true'),\n",
    "     ('hive.strict.managed.tables','false'),\n",
    "     ('hive.metastore.uris', 'thrift://nn01.bigdata:9083'),\n",
    "     ('metastore.client.capability.check','false')\n",
    "    ])\n",
    "spark = SparkSession.builder \\\n",
    "        .master(\"local[*]\") \\\n",
    "        .appName(\"testreplace\") \\\n",
    "        .config(conf=conf) \\\n",
    "        .enableHiveSupport() \\\n",
    "        .getOrCreate();"
   ]
  },
  {
   "cell_type": "code",
   "execution_count": null,
   "id": "6d59eaa1-6476-4028-8d56-876f9b347194",
   "metadata": {
    "tags": []
   },
   "outputs": [],
   "source": [
    "def get_datetime():\n",
    "    now = datetime.now()\n",
    "    dt_hdfs = now.strftime(\"%Y%m%d%H\"+'00')\n",
    "    \n",
    "    return dt_hdfs"
   ]
  },
  {
   "cell_type": "code",
   "execution_count": null,
   "id": "32416b4a-aa42-4877-a17c-b721145899fa",
   "metadata": {
    "tags": []
   },
   "outputs": [],
   "source": [
    "def check_sep_ip(row):\n",
    "    port_list = []\n",
    "    ip_list = []\n",
    "    for i in row.str.split(':'):\n",
    "        if len(i) == 2:\n",
    "            ip_list.append(i[0])\n",
    "            port_list.append(i[1])\n",
    "        else:\n",
    "            port_list.append(i[-1])\n",
    "            i = i[:-1]\n",
    "            ip_list.append(':'.join(i))\n",
    "\n",
    "    return ip_list,port_list"
   ]
  },
  {
   "cell_type": "code",
   "execution_count": null,
   "id": "dd7fd6ca-143c-4f55-af7b-833a56ce15b4",
   "metadata": {
    "tags": []
   },
   "outputs": [],
   "source": [
    "data = pd.read_csv('/HDFS01/airflow/notebooks/Pasit/AIS/2022081001_mpm_10.tmp',sep='\\r', header=None)"
   ]
  },
  {
   "cell_type": "code",
   "execution_count": null,
   "id": "81b13d97-dc86-4f5b-8471-c09171dad56f",
   "metadata": {
    "tags": []
   },
   "outputs": [],
   "source": [
    "data = data[0].str.split(' ',expand=True)"
   ]
  },
  {
   "cell_type": "code",
   "execution_count": null,
   "id": "e03357b8-9e3d-4b7a-a77b-359c6714a831",
   "metadata": {
    "tags": []
   },
   "outputs": [],
   "source": [
    "df_H = data.loc[data[12].str.contains(\"H\") == True].reset_index(drop=True)\n",
    "df_D = data.loc[data[12].str.contains(\"D\") == True].reset_index(drop=True)"
   ]
  },
  {
   "cell_type": "code",
   "execution_count": null,
   "id": "60be5fe8-fb6c-4b37-a8a6-995af9deae87",
   "metadata": {
    "tags": []
   },
   "outputs": [],
   "source": [
    "df_H = df_H \\\n",
    "          .astype(str) \\\n",
    "          .replace(\"\\[\",'', regex=True) \\\n",
    "          .replace('\\]','', regex=True) \\\n",
    "          .replace('\"','', regex=True)\n",
    "\n",
    "df_D = df_D \\\n",
    "           .astype(str) \\\n",
    "           .replace(\"\\[\",'', regex=True) \\\n",
    "           .replace('\\]','', regex=True) \\\n",
    "           .replace('\"','', regex=True)"
   ]
  },
  {
   "cell_type": "code",
   "execution_count": null,
   "id": "8854238f-d8b8-42f9-82f9-9f839bf0d55f",
   "metadata": {
    "tags": []
   },
   "outputs": [],
   "source": [
    "df_H1 = pd.DataFrame()\n",
    "df_H1['parameter'] = df_H[12]\n",
    "df_H1['start_date'] = df_H[5]+' '+df_H[6]+' '+df_H[7]+' '+df_H[8]\n",
    "df_H1['stop_date'] = \"\"\n",
    "df_H1['duration'] = \"\"\n",
    "df_H1['hostname'] = df_H[10]\n",
    "df_H1['protocal'] = df_H[13]\n",
    "df_H1['srcip'],df_H1['srcport'] = check_sep_ip(df_H[14])\n",
    "df_H1['srcnatip'],df_H1['srcnatport'] = check_sep_ip(df_H[15])\n",
    "df_H1['dstip'],df_H1['dstport'] = check_sep_ip(df_H[16])\n",
    "df_H1['dstnatip'],df_H1['dstnatport'] = check_sep_ip(df_H[17])\n",
    "df_H1['user'] = df_D[18]\n",
    "df_H1['sent'] = df_H[21]\n",
    "df_H1['received'] = df_H[22]\n",
    "df_H1['domain'] = \"\"\n",
    "df_H1['method'] = df_H[19]\n",
    "df_H1['url'] = df_H[20]\n",
    "df_H1['uri'] = \"\"\n",
    "df_H1['rm'] = \"\"\n",
    "df_H1['locations'] = df_H[23]\n",
    "df_H1['dt'] = self.getDT()[1]\n",
    "df_H1['mon'] = df_H[23]\n",
    "df_H1['mon'] = df_H[23]\n",
    "df_H1['start_filter'] = pd.to_datetime(df_H[5]+' '+df_H[6]+' '+df_H[7]+' '+df_H[8]).astype(str)\n",
    "df_H1['stop_filter'] = \"\""
   ]
  },
  {
   "cell_type": "code",
   "execution_count": null,
   "id": "c81e4774-0ffe-4852-b30e-4268a738d852",
   "metadata": {
    "tags": []
   },
   "outputs": [],
   "source": [
    "df_D1 = pd.DataFrame()\n",
    "df_D1['parameter'] = df_D[12]\n",
    "df_D1['start_date']= \"\"\n",
    "df_D1['stop_date'] = df_D[5]+' '+df_D[6]+' '+df_D[7]+' '+df_D[8]\n",
    "df_D1['duration'] = df_D[19]\n",
    "df_D1['hostname'] = df_D[10]\n",
    "df_D1['protocal'] = df_D[13]\n",
    "df_D1['srcip'],df_D1['srcport'] = check_sep_ip(df_D[14])\n",
    "df_D1['srcnatip'],df_D1['srcnatport'] = check_sep_ip(df_D[15])\n",
    "df_D1['dstip'],df_D1['dstport'] = check_sep_ip(df_D[16])\n",
    "df_D1['dstnatip'],df_D1['dstnatport'] = check_sep_ip(df_D[17])\n",
    "df_D1['user'] = df_D[18]\n",
    "df_D1['sent'] = df_D[20]\n",
    "df_D1['received'] = df_D[21]\n",
    "df_D1['domain'] = \"\"\n",
    "df_D1['method'] = \"\"\n",
    "df_D1['url'] = \"\"\n",
    "df_D1['uri'] = \"\"\n",
    "df_D1['rm'] = \"\"\n",
    "df_D1['locations'] = df_D[22]\n",
    "df_D1['dt'] = self.getDT()[1]\n",
    "df_D1['mon'] = df_D[22]\n",
    "df_D1['start_filter'] = \"\"\n",
    "df_D1['stop_filter'] = pd.to_datetime(df_D[5]+' '+df_D[6]+' '+df_D[7]+' '+df_D[8]).astype(str)"
   ]
  },
  {
   "cell_type": "code",
   "execution_count": null,
   "id": "9bde4135-c4d3-46cf-8895-5367e9ba509e",
   "metadata": {
    "tags": []
   },
   "outputs": [],
   "source": [
    "schema = StructType([\n",
    "        StructField(\"parameter\", StringType(), True),\n",
    "        StructField(\"start_date\", StringType(), True),\n",
    "        StructField(\"stop_date\", StringType(), True),\n",
    "        StructField(\"duration\", StringType(), True),\n",
    "        StructField(\"hostname\", StringType(), True),\n",
    "        StructField(\"protocal\", StringType(), True),\n",
    "        StructField(\"srcip\", StringType(), True),\n",
    "        StructField(\"srcport\", StringType(), True),\n",
    "        StructField(\"srcnatip\", StringType(), True),\n",
    "        StructField(\"srcnatport\", StringType(), True),\n",
    "        StructField(\"dstip\", StringType(), True),\n",
    "        StructField(\"dstport\", StringType(), True),\n",
    "        StructField(\"dstnatip\", StringType(), True),\n",
    "        StructField(\"dstnatport\", StringType(), True),\n",
    "        StructField(\"user\", StringType(), True),\n",
    "        StructField(\"sent\", StringType(), True),\n",
    "        StructField(\"received\", StringType(), True),\n",
    "        StructField(\"domain\", StringType(), True),\n",
    "        StructField(\"method\", StringType(), True),\n",
    "        StructField(\"url\", StringType(), True),\n",
    "        StructField(\"uri\", StringType(), True),\n",
    "        StructField(\"rm\", StringType(), True),\n",
    "        StructField(\"locations\", StringType(), True),\n",
    "        StructField(\"dt\", StringType(), True),\n",
    "        StructField(\"mon\", StringType(), True),\n",
    "        StructField(\"start_filter\", StringType(), True),\n",
    "        StructField(\"stop_filter\", StringType(), True),\n",
    "])"
   ]
  },
  {
   "cell_type": "code",
   "execution_count": null,
   "id": "68230f9f-afb8-4122-bf40-9869b66fba0e",
   "metadata": {
    "tags": []
   },
   "outputs": [],
   "source": [
    "dh = spark.createDataFrame(df_H1, schema=schema)"
   ]
  },
  {
   "cell_type": "code",
   "execution_count": null,
   "id": "ea19336b-3276-4e8e-b1d3-8a4661058862",
   "metadata": {
    "tags": []
   },
   "outputs": [],
   "source": [
    "dd = spark.createDataFrame(df_D1, schema=schema)"
   ]
  },
  {
   "cell_type": "code",
   "execution_count": null,
   "id": "f52c3cf6-b747-4f68-b1dd-7e90091bb0e4",
   "metadata": {
    "tags": []
   },
   "outputs": [],
   "source": [
    "dh.write \\\n",
    "    .mode('overwrite') \\\n",
    "    .partitionBy('dt') \\\n",
    "    .saveAsTable('ais.cgn_h')"
   ]
  },
  {
   "cell_type": "code",
   "execution_count": null,
   "id": "c904edf4-9353-4553-a926-25116719fe65",
   "metadata": {
    "tags": []
   },
   "outputs": [],
   "source": [
    "dd.write \\\n",
    "    .mode('overwrite') \\\n",
    "    .partitionBy('dt') \\\n",
    "    .saveAsTable('ais.cgn_d')"
   ]
  }
 ],
 "metadata": {
  "kernelspec": {
   "display_name": "Python 3 (ipykernel)",
   "language": "python",
   "name": "python3"
  },
  "language_info": {
   "codemirror_mode": {
    "name": "ipython",
    "version": 3
   },
   "file_extension": ".py",
   "mimetype": "text/x-python",
   "name": "python",
   "nbconvert_exporter": "python",
   "pygments_lexer": "ipython3",
   "version": "3.9.16"
  }
 },
 "nbformat": 4,
 "nbformat_minor": 5
}
