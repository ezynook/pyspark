{
 "cells": [
  {
   "cell_type": "code",
   "execution_count": 10,
   "id": "abd3c6ed-16d8-4b2d-9f82-3f9b1dfc287c",
   "metadata": {
    "tags": []
   },
   "outputs": [],
   "source": [
    "from time import time\n",
    "from datetime import datetime"
   ]
  },
  {
   "cell_type": "code",
   "execution_count": 11,
   "id": "19166f8b-44c5-4037-a0a0-50db1f1a644d",
   "metadata": {
    "tags": []
   },
   "outputs": [],
   "source": [
    "start_time = \"01:07:42\""
   ]
  },
  {
   "cell_type": "code",
   "execution_count": 12,
   "id": "563e2b0d-a103-4b69-bcec-d284b689fcf4",
   "metadata": {
    "tags": []
   },
   "outputs": [],
   "source": [
    "end_time = \"01:08:09\""
   ]
  },
  {
   "cell_type": "code",
   "execution_count": 13,
   "id": "da647999-e2ac-4332-81d6-bb753d1d7d28",
   "metadata": {},
   "outputs": [
    {
     "data": {
      "text/plain": [
       "27000"
      ]
     },
     "execution_count": 13,
     "metadata": {},
     "output_type": "execute_result"
    }
   ],
   "source": [
    "t1 = datetime.strptime(start_time, \"%H:%M:%S\")\n",
    "t2 = datetime.strptime(end_time, \"%H:%M:%S\")\n",
    "delta = t2 - t1\n",
    "ms = delta.total_seconds() * 1000\n",
    "int(ms)"
   ]
  },
  {
   "cell_type": "code",
   "execution_count": 6,
   "id": "1a02fac3-73e0-4c4c-8751-f8dffcae8a2f",
   "metadata": {},
   "outputs": [],
   "source": [
    "import os"
   ]
  },
  {
   "cell_type": "code",
   "execution_count": 9,
   "id": "d19b9809-7a9d-479d-b467-b99ce74eb1a0",
   "metadata": {},
   "outputs": [
    {
     "name": "stderr",
     "output_type": "stream",
     "text": [
      "tailf: stat failed /HDFS01/airflow/notebooks/Pasit/AIS/Script/cgn_log_2023-04-18: No such file or directory\n"
     ]
    },
    {
     "data": {
      "text/plain": [
       "256"
      ]
     },
     "execution_count": 9,
     "metadata": {},
     "output_type": "execute_result"
    }
   ],
   "source": [
    "os.system(\"tailf /HDFS01/airflow/notebooks/Pasit/AIS/Script/cgn_log_2023-04-18 13:32:53.log\")"
   ]
  },
  {
   "cell_type": "code",
   "execution_count": null,
   "id": "f10380d3-b5e4-4a6e-97bd-9819a7f5c5dd",
   "metadata": {},
   "outputs": [],
   "source": []
  }
 ],
 "metadata": {
  "kernelspec": {
   "display_name": "Python 3 (ipykernel)",
   "language": "python",
   "name": "python3"
  },
  "language_info": {
   "codemirror_mode": {
    "name": "ipython",
    "version": 3
   },
   "file_extension": ".py",
   "mimetype": "text/x-python",
   "name": "python",
   "nbconvert_exporter": "python",
   "pygments_lexer": "ipython3",
   "version": "3.9.16"
  }
 },
 "nbformat": 4,
 "nbformat_minor": 5
}
